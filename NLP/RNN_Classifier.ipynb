{
  "nbformat": 4,
  "nbformat_minor": 0,
  "metadata": {
    "colab": {
      "provenance": [],
      "gpuType": "T4",
      "mount_file_id": "1kQnRduaHas0DlZ1uO6CugbTc1CTsooik",
      "authorship_tag": "ABX9TyMHfTNDkwrMK6+2b9OUmQFv",
      "include_colab_link": true
    },
    "kernelspec": {
      "name": "python3",
      "display_name": "Python 3"
    },
    "language_info": {
      "name": "python"
    },
    "accelerator": "GPU",
    "gpuClass": "standard"
  },
  "cells": [
    {
      "cell_type": "markdown",
      "metadata": {
        "id": "view-in-github",
        "colab_type": "text"
      },
      "source": [
        "<a href=\"https://colab.research.google.com/github/Park-hanna/BDA_study/blob/main/NLP/RNN_Classifier.ipynb\" target=\"_parent\"><img src=\"https://colab.research.google.com/assets/colab-badge.svg\" alt=\"Open In Colab\"/></a>"
      ]
    },
    {
      "cell_type": "markdown",
      "source": [
        "https://tutorials.pytorch.kr/intermediate/char_rnn_classification_tutorial.html"
      ],
      "metadata": {
        "id": "thiijI-bBJcC"
      }
    },
    {
      "cell_type": "code",
      "execution_count": null,
      "metadata": {
        "id": "tRjSCvw54wzG"
      },
      "outputs": [],
      "source": [
        "# $ python predict.py Hinton\n",
        "# (-0.47) Scottish\n",
        "# (-1.52) English\n",
        "# (-3.57) Irish\n",
        "\n",
        "# $ python predict.py Schmidhuber\n",
        "# (-0.19) German\n",
        "# (-2.48) Czech\n",
        "# (-2.68) Dutch"
      ]
    },
    {
      "cell_type": "code",
      "source": [
        "from __future__ import unicode_literals, print_function, division\n",
        "from io import open\n",
        "import glob\n",
        "import os\n",
        "\n",
        "def findFiles(path): return glob.glob(path)\n",
        "\n",
        "print(findFiles('/content/drive/MyDrive/Data/data/data/names/*.txt'))\n",
        "\n",
        "import unicodedata\n",
        "import string\n",
        "\n",
        "all_letters = string.ascii_letters + \" .,;'\"\n",
        "n_letters = len(all_letters)\n",
        "\n",
        "# 유니코드 문자열을 ASCII로 변환, https://stackoverflow.com/a/518232/2809427\n",
        "def unicodeToAscii(s):\n",
        "    return ''.join(\n",
        "        c for c in unicodedata.normalize('NFD', s)\n",
        "        if unicodedata.category(c) != 'Mn'\n",
        "        and c in all_letters\n",
        "    )\n",
        "\n",
        "print(unicodeToAscii('Ślusàrski'))\n",
        "\n",
        "# 각 언어의 이름 목록인 category_lines 사전 생성\n",
        "category_lines = {}\n",
        "all_categories = []\n",
        "\n",
        "# 파일을 읽고 줄 단위로 분리\n",
        "def readLines(filename):\n",
        "    lines = open(filename, encoding='utf-8').read().strip().split('\\n')\n",
        "    return [unicodeToAscii(line) for line in lines]\n",
        "\n",
        "for filename in findFiles('/content/drive/MyDrive/Data/data/data/names/*.txt'):\n",
        "    category = os.path.splitext(os.path.basename(filename))[0]\n",
        "    all_categories.append(category)\n",
        "    lines = readLines(filename)\n",
        "    category_lines[category] = lines\n",
        "\n",
        "n_categories = len(all_categories)"
      ],
      "metadata": {
        "colab": {
          "base_uri": "https://localhost:8080/"
        },
        "id": "OqDW3n_e5PlB",
        "outputId": "d288a5bf-2d1e-412e-ad7a-5fa4ea256852"
      },
      "execution_count": null,
      "outputs": [
        {
          "output_type": "stream",
          "name": "stdout",
          "text": [
            "['/content/drive/MyDrive/Data/data/data/names/Greek.txt', '/content/drive/MyDrive/Data/data/data/names/Italian.txt', '/content/drive/MyDrive/Data/data/data/names/Polish.txt', '/content/drive/MyDrive/Data/data/data/names/Czech.txt', '/content/drive/MyDrive/Data/data/data/names/Arabic.txt', '/content/drive/MyDrive/Data/data/data/names/Korean.txt', '/content/drive/MyDrive/Data/data/data/names/Spanish.txt', '/content/drive/MyDrive/Data/data/data/names/Portuguese.txt', '/content/drive/MyDrive/Data/data/data/names/Chinese.txt', '/content/drive/MyDrive/Data/data/data/names/Irish.txt', '/content/drive/MyDrive/Data/data/data/names/Russian.txt', '/content/drive/MyDrive/Data/data/data/names/German.txt', '/content/drive/MyDrive/Data/data/data/names/Dutch.txt', '/content/drive/MyDrive/Data/data/data/names/English.txt', '/content/drive/MyDrive/Data/data/data/names/Scottish.txt', '/content/drive/MyDrive/Data/data/data/names/Japanese.txt', '/content/drive/MyDrive/Data/data/data/names/French.txt', '/content/drive/MyDrive/Data/data/data/names/Vietnamese.txt']\n",
            "Slusarski\n"
          ]
        }
      ]
    },
    {
      "cell_type": "code",
      "source": [
        "print(category_lines['Italian'][:5])"
      ],
      "metadata": {
        "colab": {
          "base_uri": "https://localhost:8080/"
        },
        "id": "352G1c0671w3",
        "outputId": "fc4ba1bc-5e72-4b7d-fadf-cbe6e727d0c1"
      },
      "execution_count": null,
      "outputs": [
        {
          "output_type": "stream",
          "name": "stdout",
          "text": [
            "['Abandonato', 'Abatangelo', 'Abatantuono', 'Abate', 'Abategiovanni']\n"
          ]
        }
      ]
    },
    {
      "cell_type": "code",
      "source": [
        "import torch\n",
        "\n",
        "def letterToIndex(letter):\n",
        "  return all_letters.find(letter)\n",
        "\n",
        "def letterToTensor(letter):\n",
        "  tensor = torch.zeros(1, n_letters)\n",
        "  tensor[0][letterToIndex(letter)] = 1\n",
        "  return tensor\n",
        "\n",
        "def lineToTensor(line):\n",
        "  tensor = torch.zeros(len(line), 1, n_letters)\n",
        "  for li, letter in enumerate(line):\n",
        "    tensor[li][0][letterToIndex(letter)] = 1\n",
        "\n",
        "  return tensor\n",
        "\n",
        "print(letterToTensor('J'))\n",
        "print(lineToTensor('Jones').size())"
      ],
      "metadata": {
        "colab": {
          "base_uri": "https://localhost:8080/"
        },
        "id": "gYVz1K3G7dgY",
        "outputId": "0dae3ae1-4c9f-4390-db39-68e49e023e0c"
      },
      "execution_count": null,
      "outputs": [
        {
          "output_type": "stream",
          "name": "stdout",
          "text": [
            "tensor([[0., 0., 0., 0., 0., 0., 0., 0., 0., 0., 0., 0., 0., 0., 0., 0., 0., 0.,\n",
            "         0., 0., 0., 0., 0., 0., 0., 0., 0., 0., 0., 0., 0., 0., 0., 0., 0., 1.,\n",
            "         0., 0., 0., 0., 0., 0., 0., 0., 0., 0., 0., 0., 0., 0., 0., 0., 0., 0.,\n",
            "         0., 0., 0.]])\n",
            "torch.Size([5, 1, 57])\n"
          ]
        }
      ]
    },
    {
      "cell_type": "code",
      "source": [
        "import torch.nn as nn\n",
        "\n",
        "class RNN(nn.Module):\n",
        "  def __init__(self, input_size, hidden_size, output_size):\n",
        "    super(RNN, self).__init__()\n",
        "\n",
        "    self.hidden_size = hidden_size\n",
        "\n",
        "    self.i2h = nn.Linear(input_size + hidden_size, hidden_size)\n",
        "    self.i2o = nn.Linear(input_size + hidden_size, output_size)\n",
        "    self.softmax = nn.LogSoftmax(dim=1)\n",
        "\n",
        "  def forward(self, input, hidden):\n",
        "    combined = torch.cat((input, hidden), 1)\n",
        "    hidden = self.i2h(combined)\n",
        "    output = self.i2o(combined)\n",
        "    output = self.softmax(output)\n",
        "    return output, hidden\n",
        "\n",
        "  def initHidden(self):\n",
        "    return torch.zeros(1, self.hidden_size)\n",
        "\n",
        "n_hidden = 128\n",
        "rnn = RNN(n_letters, n_hidden, n_categories)"
      ],
      "metadata": {
        "id": "meU6G3OV8eAn"
      },
      "execution_count": null,
      "outputs": []
    },
    {
      "cell_type": "code",
      "source": [
        "input = letterToTensor('A')\n",
        "hidden = torch.zeros(1, n_hidden)\n",
        "\n",
        "output, next_hidden = rnn(input, hidden)"
      ],
      "metadata": {
        "id": "LrF1WxhL9j6F"
      },
      "execution_count": null,
      "outputs": []
    },
    {
      "cell_type": "code",
      "source": [
        "input = lineToTensor('Albert')\n",
        "hidden = torch.zeros(1, n_hidden)\n",
        "\n",
        "output, next_hidden = rnn(input[0], hidden)\n",
        "print(output)"
      ],
      "metadata": {
        "colab": {
          "base_uri": "https://localhost:8080/"
        },
        "id": "5ssj9aVh94Tv",
        "outputId": "e350eb62-3d94-4a7b-8d69-a31d101a592d"
      },
      "execution_count": null,
      "outputs": [
        {
          "output_type": "stream",
          "name": "stdout",
          "text": [
            "tensor([[-2.9856, -2.9612, -2.9046, -2.9760, -2.8550, -2.8996, -2.8898, -2.7667,\n",
            "         -2.9566, -2.7775, -2.8712, -2.8843, -2.8958, -2.9448, -2.9275, -2.8997,\n",
            "         -2.8160, -2.8489]], grad_fn=<LogSoftmaxBackward0>)\n"
          ]
        }
      ]
    },
    {
      "cell_type": "code",
      "source": [
        "def categoryFromOutput(output):\n",
        "  top_n, top_i = output.topk(1)\n",
        "  category_i = top_i[0].item()\n",
        "  return all_categories[category_i], category_i\n",
        "\n",
        "print(categoryFromOutput(output))"
      ],
      "metadata": {
        "colab": {
          "base_uri": "https://localhost:8080/"
        },
        "id": "UOS_CILT-EtT",
        "outputId": "b134d2d0-a93c-4e2a-998a-a55ee2ae1f78"
      },
      "execution_count": null,
      "outputs": [
        {
          "output_type": "stream",
          "name": "stdout",
          "text": [
            "('Portuguese', 7)\n"
          ]
        }
      ]
    },
    {
      "cell_type": "code",
      "source": [
        "import random\n",
        "\n",
        "def randomChoice(l):\n",
        "  return l[random.randint(0, len(l)-1)]\n",
        "\n",
        "def randomTrainingExample():\n",
        "  category = randomChoice(all_categories)\n",
        "  line = randomChoice(category_lines[category])\n",
        "  category_tensor = torch.tensor([all_categories.index(category)], dtype=torch.long)\n",
        "  line_tensor = lineToTensor(line)\n",
        "  return category, line, category_tensor, line_tensor\n",
        "\n",
        "for i in range(10):\n",
        "  category, line, category_tensor, line_tensor = randomTrainingExample()\n",
        "  print('category =', category, '/ line = ',line)"
      ],
      "metadata": {
        "colab": {
          "base_uri": "https://localhost:8080/"
        },
        "id": "g9QWdBZj-ZFd",
        "outputId": "cf6e01b1-fd42-4e36-f1aa-b029b51efb43"
      },
      "execution_count": null,
      "outputs": [
        {
          "output_type": "stream",
          "name": "stdout",
          "text": [
            "category = Portuguese / line =  Ferreira\n",
            "category = Dutch / line =  Leeuwenhoek\n",
            "category = Scottish / line =  Jamieson\n",
            "category = Portuguese / line =  Coelho\n",
            "category = Dutch / line =  Snijder\n",
            "category = Irish / line =  Farrell\n",
            "category = Russian / line =  Vinnik\n",
            "category = Arabic / line =  Haddad\n",
            "category = Korean / line =  Chung\n",
            "category = English / line =  Millard\n"
          ]
        }
      ]
    },
    {
      "cell_type": "code",
      "source": [
        "criterion = nn.NLLLoss()"
      ],
      "metadata": {
        "id": "_1GlQyTX_OAk"
      },
      "execution_count": null,
      "outputs": []
    },
    {
      "cell_type": "code",
      "source": [
        "learning_rate = 0.005\n",
        "\n",
        "def train(category_tensor, line_tensor):\n",
        "  hidden = rnn.initHidden()\n",
        "\n",
        "  rnn.zero_grad()\n",
        "\n",
        "  for i in range(line_tensor.size()[0]):\n",
        "    output, hidden = rnn(line_tensor[i], hidden)\n",
        "\n",
        "  loss = criterion(output, category_tensor)\n",
        "  loss.backward()\n",
        "\n",
        "  for p in rnn.parameters():\n",
        "    p.data.add_(p.grad.data, alpha=-learning_rate)\n",
        "\n",
        "  return output, loss.item()"
      ],
      "metadata": {
        "id": "ulccEZ0W_X_3"
      },
      "execution_count": null,
      "outputs": []
    },
    {
      "cell_type": "code",
      "source": [
        "import time\n",
        "import math\n",
        "\n",
        "n_iters = 100000\n",
        "print_every = 5000\n",
        "plot_every = 1000\n",
        "\n",
        "current_loss = 0\n",
        "all_losses = []\n",
        "\n",
        "def timeSince(since):\n",
        "  now = time.time()\n",
        "  s = now - since\n",
        "  m = math.floor(s / 60)\n",
        "  s -= m * 60\n",
        "  return '%dm %ds' % (m,s)\n",
        "\n",
        "start = time.time()\n",
        "\n",
        "for iter in range(1, n_iters + 1):\n",
        "  category, line, category_tensor, line_tensor = randomTrainingExample()\n",
        "  output, loss = train(category_tensor, line_tensor)\n",
        "  current_loss += loss\n",
        "\n",
        "  if iter % print_every == 0:\n",
        "    guess, guess_i = categoryFromOutput(output)\n",
        "    correct = correct = '✓' if guess == category else '✗ (%s)' % category\n",
        "    print('%d %d%% (%s) %.4f %s / %s %s' % (iter, iter / n_iters * 100, timeSince(start), loss, line, guess, correct))\n",
        "\n",
        "  if iter % plot_every == 0:\n",
        "    all_losses.append(current_loss / plot_every)\n",
        "    current_loss = 0"
      ],
      "metadata": {
        "colab": {
          "base_uri": "https://localhost:8080/"
        },
        "id": "kuJCGRur_3J1",
        "outputId": "1421cf2c-ef81-418d-cad0-1e76ef5ea6f8"
      },
      "execution_count": null,
      "outputs": [
        {
          "output_type": "stream",
          "name": "stdout",
          "text": [
            "5000 5% (0m 8s) 2.5575 Yoon / Korean ✓\n",
            "10000 10% (0m 14s) 1.0963 Inihara / Japanese ✓\n",
            "15000 15% (0m 21s) 1.0996 Kamioka / Japanese ✓\n",
            "20000 20% (0m 28s) 0.7384 Tong / Chinese ✓\n",
            "25000 25% (0m 34s) 2.0658 O'Grady / Japanese ✗ (Irish)\n",
            "30000 30% (0m 41s) 1.4944 Shamon / Arabic ✓\n",
            "35000 35% (0m 47s) 2.9059 Malafa / Arabic ✗ (Czech)\n",
            "40000 40% (0m 55s) 2.7108 Bustos / Greek ✗ (Spanish)\n",
            "45000 45% (1m 1s) 3.8235 Deeb / Dutch ✗ (Arabic)\n",
            "50000 50% (1m 8s) 1.7049 Ellrott / French ✗ (English)\n",
            "55000 55% (1m 14s) 1.0150 Romao / Portuguese ✓\n",
            "60000 60% (1m 22s) 1.8923 Teoh / Vietnamese ✗ (Chinese)\n",
            "65000 65% (1m 28s) 5.6520 Gets / Dutch ✗ (Russian)\n",
            "70000 70% (1m 35s) 0.2976 Reynder / Dutch ✓\n",
            "75000 75% (1m 41s) 0.1916 Mochulov / Russian ✓\n",
            "80000 80% (1m 49s) 2.2861 Toman / Irish ✗ (Czech)\n",
            "85000 85% (1m 55s) 1.8674 Tholberg / Russian ✗ (Dutch)\n",
            "90000 90% (2m 2s) 0.2891 Ta / Vietnamese ✓\n",
            "95000 95% (2m 9s) 0.6823 Pitersky / Russian ✓\n",
            "100000 100% (2m 16s) 4.9818 Durnovo / Portuguese ✗ (Russian)\n"
          ]
        }
      ]
    },
    {
      "cell_type": "code",
      "source": [
        "import matplotlib.pyplot as plt\n",
        "import matplotlib.ticker as ticker\n",
        "\n",
        "plt.figure()\n",
        "plt.plot(all_losses)"
      ],
      "metadata": {
        "colab": {
          "base_uri": "https://localhost:8080/",
          "height": 448
        },
        "id": "s5nT8oUVA0JR",
        "outputId": "2b02a1e3-f5f1-4ab4-894d-e8a7a9d7790a"
      },
      "execution_count": null,
      "outputs": [
        {
          "output_type": "execute_result",
          "data": {
            "text/plain": [
              "[<matplotlib.lines.Line2D at 0x7f6b30bee710>]"
            ]
          },
          "metadata": {},
          "execution_count": 13
        },
        {
          "output_type": "display_data",
          "data": {
            "text/plain": [
              "<Figure size 640x480 with 1 Axes>"
            ],
            "image/png": "[encoded data removed]"
          },
          "metadata": {}
        }
      ]
    },
    {
      "cell_type": "code",
      "source": [
        "# confusion procession\n",
        "confusion = torch.zeros(n_categories, n_categories)\n",
        "n_confusion = 10000\n",
        "\n",
        "def evaluate(line_tensor):\n",
        "  hidden = rnn.initHidden()\n",
        "\n",
        "  for i in range(line_tensor.size()[0]):\n",
        "    output, hidden = rnn(line_tensor[i], hidden)\n",
        "\n",
        "  return output\n",
        "\n",
        "for i in range(n_confusion):\n",
        "  category, line, category_tensor, line_tensor = randomTrainingExample()\n",
        "  output = evaluate(line_tensor)\n",
        "  guess, guess_i = categoryFromOutput(output)\n",
        "  category_i = all_categories.index(category)\n",
        "  confusion[category_i][guess_i] += 1\n",
        "\n",
        "for i in range(n_categories):\n",
        "  confusion[i] = confusion[i] / confusion[i].sum()\n",
        "\n",
        "fig = plt.figure()\n",
        "ax = fig.add_subplot(111)\n",
        "cax = ax.matshow(confusion.numpy())\n",
        "fig.colorbar(cax)\n",
        "\n",
        "ax.set_xticklabels([''] + all_categories, rotation = 90)\n",
        "ax.set_yticklabels([''] + all_categories)\n",
        "\n",
        "ax.xaxis.set_major_locator(ticker.MultipleLocator(1))\n",
        "ax.yaxis.set_major_locator(ticker.MultipleLocator(1))\n",
        "\n",
        "plt.show()"
      ],
      "metadata": {
        "colab": {
          "base_uri": "https://localhost:8080/",
          "height": 599
        },
        "id": "AsMlXswZIhUL",
        "outputId": "2fde8eae-759a-426c-c4a1-d8d9b0f14dc3"
      },
      "execution_count": null,
      "outputs": [
        {
          "output_type": "stream",
          "name": "stderr",
          "text": [
            "<ipython-input-16-3e5c3f54ed8f>:28: UserWarning: FixedFormatter should only be used together with FixedLocator\n",
            "  ax.set_xticklabels([''] + all_categories, rotation = 90)\n",
            "<ipython-input-16-3e5c3f54ed8f>:29: UserWarning: FixedFormatter should only be used together with FixedLocator\n",
            "  ax.set_yticklabels([''] + all_categories)\n"
          ]
        },
        {
          "output_type": "display_data",
          "data": {
            "text/plain": [
              "<Figure size 640x480 with 2 Axes>"
            ],
            "image/png": "[encoded data removed]"
          },
          "metadata": {}
        }
      ]
    },
    {
      "cell_type": "code",
      "source": [
        "def predict(input_line, n_predictions = 3):\n",
        "  print('\\n> %s' %input_line)\n",
        "  with torch.no_grad():\n",
        "    output = evaluate(lineToTensor(input_line))\n",
        "\n",
        "    topv, topi = output.topk(n_predictions, 1, True)\n",
        "    predictions = []\n",
        "\n",
        "    for i in range(n_predictions):\n",
        "      value = topv[0][i].item()\n",
        "      category_index = topi[0][i].item()\n",
        "      print('(%.2f) %s' %(value, all_categories[category_index]))\n",
        "      predictions.append([value, all_categories[category_index]])\n",
        "\n",
        "\n",
        "predict('Dovesky')\n",
        "predict('Jackson')\n",
        "predict('Satoshi')"
      ],
      "metadata": {
        "colab": {
          "base_uri": "https://localhost:8080/"
        },
        "id": "QX8lxV1gKPC7",
        "outputId": "2e5b4865-56b5-4018-f413-eecd19a381b9"
      },
      "execution_count": null,
      "outputs": [
        {
          "output_type": "stream",
          "name": "stdout",
          "text": [
            "\n",
            "> Dovesky\n",
            "(-0.43) Russian\n",
            "(-1.89) Czech\n",
            "(-2.25) Polish\n",
            "\n",
            "> Jackson\n",
            "(-0.11) Scottish\n",
            "(-2.79) English\n",
            "(-4.22) Russian\n",
            "\n",
            "> Satoshi\n",
            "(-0.99) Japanese\n",
            "(-1.37) Italian\n",
            "(-2.63) Polish\n"
          ]
        }
      ]
    },
    {
      "cell_type": "code",
      "source": [],
      "metadata": {
        "id": "HSJ5tNnZLcpJ"
      },
      "execution_count": null,
      "outputs": []
    }
  ]
}