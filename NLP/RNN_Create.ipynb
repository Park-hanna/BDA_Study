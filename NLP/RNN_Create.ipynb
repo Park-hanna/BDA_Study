{
  "nbformat": 4,
  "nbformat_minor": 0,
  "metadata": {
    "colab": {
      "provenance": [],
      "authorship_tag": "ABX9TyO/LfbGU00npVuddZeWziIU",
      "include_colab_link": true
    },
    "kernelspec": {
      "name": "python3",
      "display_name": "Python 3"
    },
    "language_info": {
      "name": "python"
    }
  },
  "cells": [
    {
      "cell_type": "markdown",
      "metadata": {
        "id": "view-in-github",
        "colab_type": "text"
      },
      "source": [
        "<a href=\"https://colab.research.google.com/github/Park-hanna/BDA_study/blob/main/NLP/RNN_Create.ipynb\" target=\"_parent\"><img src=\"https://colab.research.google.com/assets/colab-badge.svg\" alt=\"Open In Colab\"/></a>"
      ]
    },
    {
      "cell_type": "code",
      "source": [
        "pip install unicodedata"
      ],
      "metadata": {
        "colab": {
          "base_uri": "https://localhost:8080/"
        },
        "id": "M2AUntRGOOIN",
        "outputId": "b0c3ad7d-e2b7-4393-cdba-e03c8a8395f8"
      },
      "execution_count": null,
      "outputs": [
        {
          "output_type": "stream",
          "name": "stdout",
          "text": [
            "Looking in indexes: https://pypi.org/simple, https://us-python.pkg.dev/colab-wheels/public/simple/\n",
            "\u001b[31mERROR: Could not find a version that satisfies the requirement unicodedata (from versions: none)\u001b[0m\u001b[31m\n",
            "\u001b[0m\u001b[31mERROR: No matching distribution found for unicodedata\u001b[0m\u001b[31m\n",
            "\u001b[0m"
          ]
        }
      ]
    },
    {
      "cell_type": "code",
      "source": [
        "from google.colab import drive\n",
        "drive.mount('/content/drive')"
      ],
      "metadata": {
        "colab": {
          "base_uri": "https://localhost:8080/"
        },
        "id": "k73XOkI9OFzJ",
        "outputId": "e414cd55-9933-421f-caf2-5f03d432ae64"
      },
      "execution_count": null,
      "outputs": [
        {
          "output_type": "stream",
          "name": "stdout",
          "text": [
            "Mounted at /content/drive\n"
          ]
        }
      ]
    },
    {
      "cell_type": "code",
      "execution_count": null,
      "metadata": {
        "colab": {
          "base_uri": "https://localhost:8080/"
        },
        "id": "xFvsVAM3MweP",
        "outputId": "7dda3160-3853-45a8-ff36-a29b96fb3edc"
      },
      "outputs": [
        {
          "output_type": "stream",
          "name": "stdout",
          "text": [
            "# Categories : 18 ['Greek', 'Italian', 'Polish', 'Czech', 'Arabic', 'Korean', 'Spanish', 'Portuguese', 'Chinese', 'Irish', 'Russian', 'German', 'Dutch', 'English', 'Scottish', 'Japanese', 'French', 'Vietnamese']\n",
            "'Neal\n"
          ]
        }
      ],
      "source": [
        "from __future__ import unicode_literals, print_function, division\n",
        "from io import open\n",
        "import glob\n",
        "import os\n",
        "import unicodedata\n",
        "import string\n",
        "\n",
        "all_letters = string.ascii_letters + \" .,;'-\"\n",
        "n_letters = len(all_letters) + 1\n",
        "\n",
        "def findFiles(path): return glob.glob(path)\n",
        "\n",
        "def unicodeToAscii(s):\n",
        "  return ''.join(\n",
        "      c for c in unicodedata.normalize('NFD', s)\n",
        "      if unicodedata.category(c) != 'Mn'\n",
        "      and c in all_letters\n",
        "  )\n",
        "\n",
        "def readLines(filename):\n",
        "  with open(filename, encoding='utf-8') as some_file:\n",
        "    return [unicodeToAscii(line.strip()) for line in some_file]\n",
        "\n",
        "category_lines = {}\n",
        "all_categories = []\n",
        "for filename in findFiles('/content/drive/MyDrive/Data/data/data/names/*.txt'):\n",
        "  category = os.path.splitext(os.path.basename(filename))[0]\n",
        "  all_categories.append(category)\n",
        "  lines = readLines(filename)\n",
        "  category_lines[category] = lines\n",
        "\n",
        "n_categories = len(all_categories)\n",
        "\n",
        "if n_categories == 0:\n",
        "  raise RuntimeError('Data not found. Make sure that you downloaded data'\n",
        "        'form https://download.pytorch.org/tutorial.data.zip and extract it to '\n",
        "        'the current directory.')\n",
        "\n",
        "print('# Categories :', n_categories, all_categories)\n",
        "print(unicodeToAscii(\"0'Néàl\"))"
      ]
    },
    {
      "cell_type": "code",
      "source": [
        "import torch\n",
        "import torch.nn as nn\n",
        "\n",
        "class RNN(nn.Module):\n",
        "  def __init__(self, input_size, hidden_size, output_size):\n",
        "    super(RNN, self).__init__()\n",
        "    self.hidden_size = hidden_size\n",
        "\n",
        "    self.i2h = nn.Linear(n_categories + input_size + hidden_size, hidden_size)\n",
        "    self.i2o = nn.Linear(n_categories + input_size + hidden_size, output_size)\n",
        "    self.o2o = nn.Linear(hidden_size + output_size, output_size)\n",
        "    self.dropout = nn.Dropout(0.1)\n",
        "    self.softmax = nn.LogSoftmax(dim=1)\n",
        "\n",
        "  def forward(self, category, input, hidden):\n",
        "    input_combined = torch.cat((category, input, hidden), 1)\n",
        "    hidden = self.i2h(input_combined)\n",
        "    output = self.i2o(input_combined)\n",
        "    output_combined = torch.cat((hidden, output), 1)\n",
        "    output = self.o2o(output_combined)\n",
        "    output = self.dropout(output)\n",
        "    output = self.softmax(output)\n",
        "    return output, hidden\n",
        "\n",
        "  def initHidden(self):\n",
        "    return torch.zeros(1, self.hidden_size)"
      ],
      "metadata": {
        "id": "KKFm9KHLOJG4"
      },
      "execution_count": null,
      "outputs": []
    },
    {
      "cell_type": "code",
      "source": [
        "import random\n",
        "\n",
        "def randomChoice(l):\n",
        "  return l[random.randint(0, len(l) - 1)]\n",
        "\n",
        "\n",
        "def randomTrainingPair():\n",
        "  category = randomChoice(all_categories)\n",
        "  line = randomChoice(category_lines[category])\n",
        "  return category, line"
      ],
      "metadata": {
        "id": "vQZ0SgHXUF2k"
      },
      "execution_count": null,
      "outputs": []
    },
    {
      "cell_type": "code",
      "source": [
        "def categoryTensor(category):\n",
        "  li = all_categories.index(category)\n",
        "  tensor = torch.zeros(1, n_categories)\n",
        "  tensor[0][li] = 1\n",
        "  return tensor\n",
        "\n",
        "def inputTensor(line):\n",
        "  tensor = torch.zeros(len(line), 1, n_letters)\n",
        "  for li in range(len(line)):\n",
        "    letter = line[li]\n",
        "    tensor[li][0][all_letters.find(letter)] = 1\n",
        "  return tensor\n",
        "\n",
        "def targetTensor(line):\n",
        "  letter_indexes = [all_letters.find(line[li]) for li in range(1, len(line))]\n",
        "  letter_indexes.append(n_letters - 1)\n",
        "  return torch.LongTensor(letter_indexes)"
      ],
      "metadata": {
        "id": "rBtO1oezUrhh"
      },
      "execution_count": null,
      "outputs": []
    },
    {
      "cell_type": "code",
      "source": [
        "def randomTrainingExample():\n",
        "    category, line = randomTrainingPair()\n",
        "    category_tensor = categoryTensor(category)\n",
        "    input_line_tensor = inputTensor(line)\n",
        "    target_line_tensor = targetTensor(line)\n",
        "    return category_tensor, input_line_tensor, target_line_tensor"
      ],
      "metadata": {
        "id": "JoDrjbF_V93x"
      },
      "execution_count": null,
      "outputs": []
    },
    {
      "cell_type": "code",
      "source": [
        "criterion = nn.NLLLoss()\n",
        "\n",
        "learning_rate = 0.0005\n",
        "\n",
        "def train(category_tensor, input_line_tensor, target_line_tensor):\n",
        "    target_line_tensor.unsqueeze_(-1)\n",
        "    hidden = rnn.initHidden()\n",
        "\n",
        "    rnn.zero_grad()\n",
        "\n",
        "    loss = 0\n",
        "\n",
        "    for i in range(input_line_tensor.size(0)):\n",
        "        output, hidden = rnn(category_tensor, input_line_tensor[i], hidden)\n",
        "        l = criterion(output, target_line_tensor[i])\n",
        "        loss += l\n",
        "\n",
        "    loss.backward()\n",
        "\n",
        "    for p in rnn.parameters():\n",
        "        p.data.add_(p.grad.data, alpha=-learning_rate)\n",
        "\n",
        "    return output, loss.item() / input_line_tensor.size(0)"
      ],
      "metadata": {
        "id": "e_Y1wqd0W4Tl"
      },
      "execution_count": null,
      "outputs": []
    },
    {
      "cell_type": "code",
      "source": [
        "import time\n",
        "import math\n",
        "\n",
        "def timeSince(since):\n",
        "  now = time.time()\n",
        "  s = now - since\n",
        "  m = math.floor(s/60)\n",
        "  s -= m*60\n",
        "  return '%dm %ds'%(m,s)\n",
        ""
      ],
      "metadata": {
        "id": "zJ3vMDHBX13F"
      },
      "execution_count": null,
      "outputs": []
    },
    {
      "cell_type": "code",
      "source": [
        "rnn = RNN(n_letters, 128, n_letters)\n",
        "\n",
        "n_iters = 100000\n",
        "print_every = 5000\n",
        "plot_every = 500\n",
        "all_losses = []\n",
        "total_loss = 0\n",
        "\n",
        "start = time.time()\n",
        "\n",
        "for iter in range(1, n_iters+1):\n",
        "  output, loss = train(*randomTrainingExample())\n",
        "  total_loss += loss\n",
        "\n",
        "  if iter % print_every == 0:\n",
        "    print('%s (%d %d%%) %.4f' %(timeSince(start), iter, iter/n_iters * 100, loss))\n",
        "\n",
        "  if iter % plot_every == 0:\n",
        "    all_losses.append(total_loss / plot_every)\n",
        "    total_loss = 0"
      ],
      "metadata": {
        "colab": {
          "base_uri": "https://localhost:8080/"
        },
        "id": "e4Cgu0n8YDPn",
        "outputId": "38d2ef56-12b1-4a8c-f5de-cf564ab7120f"
      },
      "execution_count": null,
      "outputs": [
        {
          "output_type": "stream",
          "name": "stdout",
          "text": [
            "0m 15s (5000 5%) 2.7827\n",
            "0m 31s (10000 10%) 2.5790\n",
            "0m 47s (15000 15%) 2.3598\n",
            "1m 2s (20000 20%) 2.7170\n",
            "1m 18s (25000 25%) 2.6047\n",
            "1m 34s (30000 30%) 3.1336\n",
            "1m 50s (35000 35%) 1.5251\n",
            "2m 5s (40000 40%) 1.6521\n",
            "2m 21s (45000 45%) 2.7992\n",
            "2m 37s (50000 50%) 2.3569\n",
            "2m 52s (55000 55%) 2.2487\n",
            "3m 7s (60000 60%) 2.5645\n",
            "3m 22s (65000 65%) 2.0476\n",
            "3m 38s (70000 70%) 1.8301\n",
            "3m 55s (75000 75%) 2.5897\n",
            "4m 10s (80000 80%) 2.0199\n",
            "4m 25s (85000 85%) 2.6327\n",
            "4m 40s (90000 90%) 1.7371\n",
            "4m 56s (95000 95%) 2.1668\n",
            "5m 11s (100000 100%) 3.6867\n"
          ]
        }
      ]
    },
    {
      "cell_type": "code",
      "source": [
        "import matplotlib.pyplot as plt\n",
        "\n",
        "plt.figure()\n",
        "plt.plot(all_losses)"
      ],
      "metadata": {
        "colab": {
          "base_uri": "https://localhost:8080/",
          "height": 448
        },
        "id": "0zgbyCYmYpgn",
        "outputId": "d4b79920-1fe9-4c58-cb19-fb72bf029788"
      },
      "execution_count": null,
      "outputs": [
        {
          "output_type": "execute_result",
          "data": {
            "text/plain": [
              "[<matplotlib.lines.Line2D at 0x7fc62c41b2e0>]"
            ]
          },
          "metadata": {},
          "execution_count": 21
        },
        {
          "output_type": "display_data",
          "data": {
            "text/plain": [
              "<Figure size 640x480 with 1 Axes>"
            ],
            "image/png": "[encoded data removed]"
          },
          "metadata": {}
        }
      ]
    },
    {
      "cell_type": "code",
      "source": [
        "from numpy.core.arrayprint import format_float_scientific\n",
        "max_length = 20\n",
        "\n",
        "def sample(category, start_letter = 'A'):\n",
        "  with torch.no_grad():\n",
        "    category_tensor = categoryTensor(category)\n",
        "    input = inputTensor(start_letter)\n",
        "    hidden = rnn.initHidden()\n",
        "\n",
        "    output_name = start_letter\n",
        "\n",
        "    for i in range(max_length):\n",
        "      output, hidden = rnn(category_tensor, input[0], hidden)\n",
        "      topv, topi = output.topk(1)\n",
        "      topi = topi[0][0]\n",
        "      if topi == n_letters - 1:\n",
        "        break\n",
        "      else:\n",
        "        letter = all_letters[topi]\n",
        "        output_name += letter\n",
        "      input = inputTensor(letter)\n",
        "\n",
        "    return output_name\n",
        "\n",
        "def samples(category, start_letters = 'ABC'):\n",
        "  for start_letter in start_letters:\n",
        "    print(sample(category, start_letter))\n",
        "\n",
        "samples('Russian', 'RUS')\n",
        "samples('German', 'GER')\n",
        "samples('Spanish', 'SPA')\n",
        "samples('Chinese', 'CHI')"
      ],
      "metadata": {
        "colab": {
          "base_uri": "https://localhost:8080/"
        },
        "id": "3Bgg8n7fat8I",
        "outputId": "70dea0d7-b866-4202-d9ce-4af0cee49722"
      },
      "execution_count": null,
      "outputs": [
        {
          "output_type": "stream",
          "name": "stdout",
          "text": [
            "Roullov\n",
            "Uanton\n",
            "Shavan\n",
            "Gell\n",
            "Eren\n",
            "Roun\n",
            "Santa\n",
            "Paner\n",
            "Alan\n",
            "Cha\n",
            "Han\n",
            "Iun\n"
          ]
        }
      ]
    },
    {
      "cell_type": "code",
      "source": [],
      "metadata": {
        "id": "R5hT4BpdbuUO"
      },
      "execution_count": null,
      "outputs": []
    }
  ]
}