{
 "cells": [
  {
   "cell_type": "markdown",
   "metadata": {
    "id": "JdcBnZdCHYJR"
   },
   "source": [
    "#Data 07: AirBnB\n",
    "\n",
    "*  에어비앤비(Airbnb, Inc.)는 2008년 8월 시작된 세계 최대의 숙박 공유 서비스이다. 자신의 방이나 집, 별장 등 사람이 지낼 수 있는 모든 공간을 임대할 수 있다. 이 데이터는 2019년 뉴욕에서 업데이트된 에어비앤비 리스트이다.\n",
    "*   Data from: http://insideairbnb.com/"
   ]
  },
  {
   "cell_type": "markdown",
   "metadata": {
    "id": "KpJEEvifHkIm"
   },
   "source": [
    "##1.데이터 둘러보기"
   ]
  },
  {
   "cell_type": "code",
   "execution_count": null,
   "metadata": {
    "id": "mDXhmoewHWVX"
   },
   "outputs": [],
   "source": [
    "#한글 폰트 설정하기\n",
    "!sudo apt-get install -y fonts-nanum\n",
    "!sudo fc-cache -fv\n",
    "!rm ~/.cache/matplotlib -rf\n",
    "#런타임 다시 시작"
   ]
  },
  {
   "cell_type": "code",
   "execution_count": null,
   "metadata": {
    "id": "eBMEgiUIHmP1"
   },
   "outputs": [],
   "source": [
    "#기본 패키지 불러오기\n",
    "import math\n",
    "import numpy as np\n",
    "import pandas as pd\n",
    "import seaborn as sns\n",
    "import matplotlib.pyplot as plt\n",
    "\n",
    "plt.style.use('seaborn')\n",
    "sns.set(font_scale=1)\n",
    "plt.rc('font', family='NanumBarunGothic') \n",
    "plt.rcParams['font.family'] = 'NanumGothic'\n",
    "\n",
    "import warnings\n",
    "warnings.simplefilter(action='ignore', category=FutureWarning)"
   ]
  },
  {
   "cell_type": "code",
   "execution_count": null,
   "metadata": {
    "id": "QNcqecimHonp"
   },
   "outputs": [],
   "source": [
    "#구글 드라이브 마운트하기(이미 되어있다면 건너뛴다)\n",
    "from google.colab import drive \n",
    "drive.mount('/content/drive')"
   ]
  },
  {
   "cell_type": "code",
   "execution_count": null,
   "metadata": {
    "id": "am1Ip30YIEJz"
   },
   "outputs": [],
   "source": [
    "#데이터 불러오기\n",
    "#드라이브에 올려준 csv 데이터 파일 불러오기\n",
    "bnb = pd.read_csv('/content/drive/MyDrive/Python/07_Airbnb/AB_NYC_2019.csv')"
   ]
  },
  {
   "cell_type": "code",
   "execution_count": null,
   "metadata": {
    "id": "pwJ7iNSBIKJu"
   },
   "outputs": [],
   "source": [
    "#불러온 데이터 일단 보기\n",
    "bnb.head(3)"
   ]
  },
  {
   "cell_type": "markdown",
   "metadata": {
    "id": "84EchXSNImW_"
   },
   "source": [
    "<컬럼 설명>   \n",
    "* id: 일련번호\n",
    "* name: AirBnB 이름\n",
    "* host_id: 호스트 ID  \n",
    "* host_name: 호스트 성명 \n",
    "* neighbourhood_group: 지역   \n",
    "* latitude: 위도  \n",
    "* longitude: 경도  \n",
    "* room_type: 방 타입  \n",
    "* price: 가격  \n",
    "* minimum_nights: 최소 숙박일수  \n",
    "* number_of_reviews: 리뷰 개수\n",
    "* last_review: 최근 리뷰 일자\n",
    "* reviews_per_month: 월 평균 리뷰 수\n",
    "* calculated_host_listings_count:  호스트에게 대여 가능한 에어비앤비의 총 개수\n",
    "* availability_365: 1년 중 가능한 대여일수"
   ]
  },
  {
   "cell_type": "markdown",
   "metadata": {
    "id": "J8XSB3i3s-eC"
   },
   "source": [
    "* 범주형 변수: \n",
    "               host_name, Neighbor_group, neighbourhood, room_type\n",
    "* 연속형 변수: \n",
    "               id, latitude, longitude, price, minimum_nights, number_of_reviews, last_review,\n",
    "               reviews_per_month registered_host_listings_count, availability_365"
   ]
  },
  {
   "cell_type": "code",
   "execution_count": null,
   "metadata": {
    "id": "SuGXL1KRIfQN"
   },
   "outputs": [],
   "source": [
    "#데이터 기본 정보 확인하기\n",
    "bnb.info()"
   ]
  },
  {
   "cell_type": "code",
   "execution_count": null,
   "metadata": {
    "id": "O6aH0sJa83rA"
   },
   "outputs": [],
   "source": [
    "#데이터 내용 간단히 정리해서 출력하기\n",
    "print(\"총 데이터 개수: \", bnb.shape[0]*bnb.shape[1])\n",
    "print(\"총 결측치 수: {} = 전체 데이터의 {:.2f}% \".format(bnb.isnull().sum().sum(), (bnb.isnull().sum().sum()*100)/(bnb.shape[0]*bnb.shape[1])))\n",
    "print(\"호스트 ID: {} 개, 호스트 {} 명\".format(bnb['host_id'].nunique(), bnb['host_name'].nunique()))\n",
    "print(\"2019년 뉴욕의 평균 Airbnb 금액: {:.2f} $\".format(bnb['price'].mean()))"
   ]
  },
  {
   "cell_type": "markdown",
   "metadata": {
    "id": "ZyAYPBcCIsq-"
   },
   "source": [
    "##2.데이터를 보고 질문 만들기"
   ]
  },
  {
   "cell_type": "markdown",
   "metadata": {
    "id": "-D62l3WXd0Z3"
   },
   "source": [
    "* 가장 많이 에어비앤비에 리스트 된 호스트는?\n",
    "* 지역별로 가장 비싼 방과 저렴한 방은?\n",
    "* 뉴욕의 어느 지역이 가장 비쌀까?\n",
    "* 지역별로 에어비앤비 타입이 다를까?\n",
    "* 에어비앤비 금액을 예측할 수 있을까?"
   ]
  },
  {
   "cell_type": "markdown",
   "metadata": {
    "id": "YvPp8_otJpUx"
   },
   "source": [
    "##3.데이터 정비하기"
   ]
  },
  {
   "cell_type": "code",
   "execution_count": null,
   "metadata": {
    "id": "X3o-qYWU94G6"
   },
   "outputs": [],
   "source": [
    "#컬럼별로 NULL 개수 확인하기\n",
    "bnb.isnull().sum()"
   ]
  },
  {
   "cell_type": "code",
   "execution_count": null,
   "metadata": {
    "id": "MzSx9fHM8JDQ"
   },
   "outputs": [],
   "source": [
    "#결측치를 간단하게 시각화 해주는 패키지 사용해보자\n",
    "import missingno"
   ]
  },
  {
   "cell_type": "code",
   "execution_count": null,
   "metadata": {
    "id": "XzO954IX8EVP"
   },
   "outputs": [],
   "source": [
    "#matrix로 결측치 확인하기\n",
    "missingno.matrix(bnb, figsize =(12,5))"
   ]
  },
  {
   "cell_type": "code",
   "execution_count": null,
   "metadata": {
    "id": "KE2Y7usE-Kcc"
   },
   "outputs": [],
   "source": [
    "#bar chart로 결측치 확인하기\n",
    "missingno.bar(bnb, figsize =(12,5))"
   ]
  },
  {
   "cell_type": "code",
   "execution_count": null,
   "metadata": {
    "id": "LeyJXatBIqGo"
   },
   "outputs": [],
   "source": [
    "#NaN 값 처리하기 \n",
    "bnb.fillna({'reviews_per_month':0}, inplace=True) #월 평균 리뷰 개수(reviews_per_month)에는 0 처리\n",
    "bnb.fillna({'name':\"NoName\"}, inplace=True) #이름이 공백인 경우는 NoName으로 처리"
   ]
  },
  {
   "cell_type": "code",
   "execution_count": null,
   "metadata": {
    "id": "kRIQob3z-k91"
   },
   "outputs": [],
   "source": [
    "#사용하지 않을 컬럼은 삭제한다\n",
    "#last review 컬럼은 대체할만한 컬럼이 있으므로 삭제해도 된다\n",
    "bnb.drop(['id','last_review'], axis=1, inplace=True) "
   ]
  },
  {
   "cell_type": "code",
   "execution_count": null,
   "metadata": {
    "id": "l19WiiDJteAy"
   },
   "outputs": [],
   "source": [
    "#에어비앤비 이름과 호스트 이름이 같은 것 존재(체크!)\n",
    "bnb[bnb['name']==bnb['host_name']]"
   ]
  },
  {
   "cell_type": "code",
   "execution_count": null,
   "metadata": {
    "id": "rGmtotRM-sHt"
   },
   "outputs": [],
   "source": [
    "#중복된 컬럼 확인\n",
    "bnb.duplicated().sum()\n",
    "#bnb.drop_duplicates(inplace=True) #중복된 컬럼이 존재한다면 삭제"
   ]
  },
  {
   "cell_type": "code",
   "execution_count": null,
   "metadata": {
    "id": "QAaIzy_quNTZ"
   },
   "outputs": [],
   "source": [
    "bnb.describe()"
   ]
  },
  {
   "cell_type": "code",
   "execution_count": null,
   "metadata": {
    "id": "XiJzWeOquhcU"
   },
   "outputs": [],
   "source": [
    "#금액이 0인 에어비앤비가 11개 존재한다!(체크!)\n",
    "len(bnb[bnb['price']==0])"
   ]
  },
  {
   "cell_type": "code",
   "execution_count": null,
   "metadata": {
    "id": "HvTKubZqE2OG"
   },
   "outputs": [],
   "source": [
    "bnb.info()"
   ]
  },
  {
   "cell_type": "markdown",
   "metadata": {
    "id": "ahp7AWnJ8lM7"
   },
   "source": [
    "##4.EDA & Visualization"
   ]
  },
  {
   "cell_type": "markdown",
   "metadata": {
    "id": "7Fk_eEUe_naI"
   },
   "source": [
    "###4-1. 간단한 분석"
   ]
  },
  {
   "cell_type": "code",
   "execution_count": null,
   "metadata": {
    "id": "frSdSBCM8k8Q"
   },
   "outputs": [],
   "source": [
    "#뉴욕 Airbnb의 금액 분포 나타내기\n",
    "\n",
    "f,ax = plt.subplots(1, 1, figsize=(8,6))\n",
    "sns.distplot(bnb['price'],hist=True, ax=ax)\n",
    "\n",
    "ax.set_xlim(-1000, 6000) #x축 범위 조정하기\n",
    "#데이터가 한쪽으로 매우 쏠려있는 것 같다!"
   ]
  },
  {
   "cell_type": "code",
   "execution_count": null,
   "metadata": {
    "id": "SpBimIt-AGFp"
   },
   "outputs": [],
   "source": [
    "#skewness and kurtosis 구하기\n",
    "#Skewness(왜도): 데이터가 정규분포에서 한 쪽으로 치우쳐있는가?\n",
    "#                -3 < skewness < 3 사이의 값이면 기준에 부합한다\n",
    "#Kurtosis(첨도): 얼마나 뾰족한가(데이터가 얼마나 평균 근처에 몰려있는가)?\n",
    "#               : 정규분포의 kurtosis = 0\n",
    "print(\"Skewness: %.2f\" % bnb['price'].skew())\n",
    "print(\"Kurtosis: %.2f\" % bnb['price'].kurt())\n",
    "#skewness와 kurtosis 모두 매우 높게 나타난다!\n",
    "#kurtosis 값이 크다는 것 = 이상치가 많이 존재한다"
   ]
  },
  {
   "cell_type": "code",
   "execution_count": null,
   "metadata": {
    "id": "ra5bamQpA5Uk"
   },
   "outputs": [],
   "source": [
    "#금액과 최소 숙박일수만 남겨놓기\n",
    "pd.concat([bnb['price'],bnb['minimum_nights']],axis=1)"
   ]
  },
  {
   "cell_type": "code",
   "execution_count": null,
   "metadata": {
    "id": "5-VIU7NWAu7u"
   },
   "outputs": [],
   "source": [
    "#가격(price)과 최소 숙박일수(minimum_nights) 간의 관계 확인하기 \n",
    "\n",
    "bnb.plot.scatter(x='price',y='minimum_nights',ylim=(0,1500), s=0.9, color='red')\n",
    "#가격이 0인 데이터가 많이 존재한다!\n",
    "#이상치로 보이는 데이터도 많다"
   ]
  },
  {
   "cell_type": "code",
   "execution_count": null,
   "metadata": {
    "id": "L4dKIO92CYuW"
   },
   "outputs": [],
   "source": [
    "#금액 분포를 box plot으로 확인하자\n",
    "f, ax = plt.subplots(1, 1, figsize=(5, 6), dpi = 80)\n",
    "\n",
    "#box plot\n",
    "sns.boxplot(bnb['price'], showfliers = True, ax=ax)\n",
    "#outlier 값이 많이 존재함을 알수 있다: 분석 시 주의!"
   ]
  },
  {
   "cell_type": "code",
   "execution_count": null,
   "metadata": {
    "id": "xmfRelfCDCRx"
   },
   "outputs": [],
   "source": [
    "#컬럼 간 상관관계를 heatmap으로 확인하자\n",
    "f, ax = plt.subplots(1, 1, figsize=(9, 8))\n",
    "\n",
    "corrmat = bnb.corr()\n",
    "sns.heatmap(corrmat, annot=True, cmap='YlGnBu', ax=ax)\n",
    "plt.title('Correlation map for Airbnb Data', size=15)\n",
    "\n",
    "#host_id와 월평균리뷰 수(reveiws_per_month), availability_365간에 상관 관계가 있다\n",
    "#최소숙박일수(min_nights)와 no_of_listings_count 및 availability_365 사이에는 주목할만한 상관 관계가 있다\n",
    "#가격은 availability_365 및 host_listings_count와의 상관 관계가 있다\n",
    "#리뷰 수(number_of_reviews)와 월평균 리뷰 수(reviews_per_month)는 거의 동일한 정보값을 준다 >> 두 변수 중 하나로 분석하자!\n",
    "#리뷰 수(number_of_reviews)는 availability_365와 관련 있다"
   ]
  },
  {
   "cell_type": "markdown",
   "metadata": {
    "id": "mF6UBKG8S2cu"
   },
   "source": [
    "###4-2. 금액의 threshold를 정해서 outlier 제거하기"
   ]
  },
  {
   "cell_type": "code",
   "execution_count": null,
   "metadata": {
    "id": "zU4PRbx7UDrE"
   },
   "outputs": [],
   "source": [
    "#이 분석은 데이터 정비에 들어가도 됨...\n",
    "\n",
    "min_threshold,max_threshold= bnb['price'].quantile([0.01,0.99]) #백분위수로 0.01, 0.99에 있는 price 확인하기\n",
    "min_threshold,max_threshold\n",
    "#min_th"
   ]
  },
  {
   "cell_type": "code",
   "execution_count": null,
   "metadata": {
    "id": "jPXLy_etUNa6"
   },
   "outputs": [],
   "source": [
    "bnb[bnb['price'] < min_threshold] \n",
    "#min 404개, max 474개"
   ]
  },
  {
   "cell_type": "code",
   "execution_count": null,
   "metadata": {
    "id": "iU0O3lDdU86s"
   },
   "outputs": [],
   "source": [
    "bnb_thr = bnb[(bnb['price'] > min_threshold) & (bnb['price'] < max_threshold)]\n",
    "bnb_thr.info()"
   ]
  },
  {
   "cell_type": "code",
   "execution_count": null,
   "metadata": {
    "id": "aRdfZvdXVUoe"
   },
   "outputs": [],
   "source": [
    "#sns.distplot으로 금액 분포가 어떻게 달라졌는지 확인해보자\n",
    "sns.distplot(bnb_thr['price'])"
   ]
  },
  {
   "cell_type": "code",
   "execution_count": null,
   "metadata": {
    "id": "JTh44HWjWJee"
   },
   "outputs": [],
   "source": [
    "#skewness and kurtosis\n",
    "print(\"Skewness: %.2f\" % bnb_thr['price'].skew())\n",
    "print(\"Kurtosis: %.2f\" % bnb_thr['price'].kurt())"
   ]
  },
  {
   "cell_type": "code",
   "execution_count": null,
   "metadata": {
    "id": "4f_U1GwmWSsI"
   },
   "outputs": [],
   "source": [
    "sns.boxplot(bnb_thr['price'])"
   ]
  },
  {
   "cell_type": "markdown",
   "metadata": {
    "id": "3JJDhLpgFJGR"
   },
   "source": [
    "###4-3. 가장 많이 리스트 된 호스트 "
   ]
  },
  {
   "cell_type": "code",
   "execution_count": null,
   "metadata": {
    "id": "Q6WLstTcGTme"
   },
   "outputs": [],
   "source": [
    "bnb_thr.head(3)"
   ]
  },
  {
   "cell_type": "code",
   "execution_count": null,
   "metadata": {
    "id": "HuLaQzc2Fny-"
   },
   "outputs": [],
   "source": [
    "#가장 많이 리스팅 된 호스트(이름 기준)는?\n",
    "top_host= bnb_thr.host_name.value_counts().head(10)\n",
    "top_host"
   ]
  },
  {
   "cell_type": "code",
   "execution_count": null,
   "metadata": {
    "id": "sAVKcWI9HQde"
   },
   "outputs": [],
   "source": [
    "top_host2 = pd.DataFrame(top_host)\n",
    "top_host2.reset_index(inplace=True)\n",
    "top_host2.rename(columns={'index': 'host_name', 'host_name':'count'}, inplace=True)\n",
    "top_host2"
   ]
  },
  {
   "cell_type": "code",
   "execution_count": null,
   "metadata": {
    "id": "lp_Q1PAMFI7t"
   },
   "outputs": [],
   "source": [
    "#bar 그래프로 나타내기\n",
    "f, ax = plt.subplots(1, 1, figsize = (12,6))\n",
    "\n",
    "sns.barplot(x='host_name', y= 'count', data=top_host2, palette='rocket', ax=ax)\n",
    "ax.set_title('NYCs top hosts with the most listings')\n",
    "ax.set_xlabel('Host Name')\n",
    "ax.set_ylabel('Counts')\n",
    "\n",
    "ax.set_xticklabels(ax.get_xticklabels(), rotation=45)"
   ]
  },
  {
   "cell_type": "markdown",
   "metadata": {
    "id": "K8Lf3W4yZS58"
   },
   "source": [
    "###4-4. 가장 비싼 방과 가장 저렴한 방은?"
   ]
  },
  {
   "cell_type": "code",
   "execution_count": null,
   "metadata": {
    "id": "7RDSSh7bZmR3"
   },
   "outputs": [],
   "source": [
    "#지역별로 가장 비싼 방은?\n",
    "#idxmax: 최대값을 가지는 index를 출력한다\n",
    "bnb_thr.groupby(['neighbourhood_group'])['price'].idxmax()"
   ]
  },
  {
   "cell_type": "code",
   "execution_count": null,
   "metadata": {
    "id": "XNljO4wvZRwz"
   },
   "outputs": [],
   "source": [
    "#지역별로 가장 비싼 방은?\n",
    "bnb_thr.loc[bnb_thr.groupby(['neighbourhood_group'])['price'].idxmax()][['name','neighbourhood_group','host_name','price']]"
   ]
  },
  {
   "cell_type": "code",
   "execution_count": null,
   "metadata": {
    "id": "cQYWFzE_Zzgz"
   },
   "outputs": [],
   "source": [
    "#지역별로 가장 저렴한 방은?\n",
    "#idxmax: 최대값을 가지는 index를 출력한다\n",
    "bnb_thr.groupby(['neighbourhood_group'])['price'].idxmin()"
   ]
  },
  {
   "cell_type": "code",
   "execution_count": null,
   "metadata": {
    "id": "hcoCZXqvZ48f"
   },
   "outputs": [],
   "source": [
    "#지역별로 가장 저렴한 방은?\n",
    "bnb_thr.loc[bnb_thr.groupby(['neighbourhood_group'])['price'].idxmin()][['name','neighbourhood_group','host_name','price']]"
   ]
  },
  {
   "cell_type": "markdown",
   "metadata": {
    "id": "QpydCA_dIM2P"
   },
   "source": [
    "###4-5. 지역별 금액 분포"
   ]
  },
  {
   "cell_type": "code",
   "execution_count": null,
   "metadata": {
    "id": "R7JpZwkXIQku"
   },
   "outputs": [],
   "source": [
    "#지역(neighbourhood_group)이 어떻게 나뉘어져 있는지 확인하기\n",
    "bnb_thr['neighbourhood_group'].unique()"
   ]
  },
  {
   "cell_type": "code",
   "execution_count": null,
   "metadata": {
    "id": "VqHYAXwtJy80"
   },
   "outputs": [],
   "source": [
    "#Violin plot으로 지역 별 에어비앤비 금액 분포 확인하기\n",
    "f, ax = plt.subplots(1, 1, figsize = (12,6))\n",
    "\n",
    "sns.violinplot(x='neighbourhood_group',y='price', data=bnb_thr ,palette='winter', ax=ax)\n",
    "ax.set_title('Prices with different regions')\n",
    "\n",
    "#맨하탄이 대체적으로 가격이 높다!\n",
    "#대부분 100$ 이하에서 가격대가 형성되어 있다"
   ]
  },
  {
   "cell_type": "markdown",
   "metadata": {
    "id": "5P-cHaYZMrv3"
   },
   "source": [
    "###4-6. 지역별 방 타입"
   ]
  },
  {
   "cell_type": "code",
   "execution_count": null,
   "metadata": {
    "id": "qMA6b5ehMrNX"
   },
   "outputs": [],
   "source": [
    "#방 타입(room_type) 종류는?\n",
    "bnb_thr['room_type'].unique()"
   ]
  },
  {
   "cell_type": "code",
   "execution_count": null,
   "metadata": {
    "id": "C4z7aiCFNBxE"
   },
   "outputs": [],
   "source": [
    "#groupby로 집계한 다음 unstack 함수를 사용해서 깔끔하게 나타낸다\n",
    "room_type2 = bnb_thr.groupby(['neighbourhood_group'])['room_type'].value_counts().unstack(0)\n",
    "room_type2"
   ]
  },
  {
   "cell_type": "code",
   "execution_count": null,
   "metadata": {
    "id": "M67xXx16Nhlb"
   },
   "outputs": [],
   "source": [
    "#지역별로 어떤 방 타입이 많은가?\n",
    "g = room_type2.plot(kind='bar', figsize = (12,6))\n",
    "g.set_title('Diffrent room types in various regions')\n",
    "g.set_xticklabels(g.get_xticklabels(), rotation=0)\n",
    "\n",
    "#맨하탄은 아파트/집 전체를 빌려주는 형태가 가장 많음\n",
    "#독립적인 방 하나만 빌려주는 것은 브루클린이 가장 많음\n",
    "#쉐어룸은 개수가 가장 적다"
   ]
  },
  {
   "cell_type": "markdown",
   "metadata": {
    "id": "8NuGxWhtWusW"
   },
   "source": [
    "###4-7. 리뷰가 많은 방은?"
   ]
  },
  {
   "cell_type": "code",
   "execution_count": null,
   "metadata": {
    "id": "O-GUzDckW3Xe"
   },
   "outputs": [],
   "source": [
    "#뉴욕에서 가장 리뷰가 많이 된 방\n",
    "top10_review= bnb.nlargest(10,'reviews_per_month')\n",
    "top10_review[['name','reviews_per_month','neighbourhood_group']]"
   ]
  },
  {
   "cell_type": "code",
   "execution_count": null,
   "metadata": {
    "id": "qf4-i4ZjWudX"
   },
   "outputs": [],
   "source": [
    "f, ax = plt.subplots(1, 1, figsize=(10,8))\n",
    "\n",
    "sns.stripplot(x='room_type',y='reviews_per_month', data = bnb, hue='neighbourhood_group'\n",
    "  , dodge=True, jitter = True, palette='Set2', ax=ax) \n",
    "#dodge = hue 별로 데이터를 나눠서 쌓아준다\n",
    "#jitter = 가로축 위치에 변동을 줘서 데이터가 겹치지 않도록 해줌\n",
    "\n",
    "ax.set_title('Most Reviewed room_types in each Neighbourhood Groups')\n",
    "\n",
    "#개인실은 퀸즈가 가장 많은 리뷰를 많이 받았다\n",
    "#맨하탄과 브루클린은 리뷰 수가 비슷하다"
   ]
  },
  {
   "cell_type": "markdown",
   "metadata": {
    "id": "WFM982OqPPxn"
   },
   "source": [
    "###4-8. 위도와 경도로 지도 위에 위치 나타내기"
   ]
  },
  {
   "cell_type": "code",
   "execution_count": null,
   "metadata": {
    "id": "SJi_7_HCPaoN"
   },
   "outputs": [],
   "source": [
    "f, ax = plt.subplots(1, 2, figsize = (18, 10))\n",
    "\n",
    "sns.scatterplot(x= 'longitude', y='latitude', data=bnb_thr, hue= 'neighbourhood_group',palette='bright', edgecolor='black',linewidth=0.3, ax=ax[0])\n",
    "sns.scatterplot(x= 'longitude', y='latitude', data=bnb_thr, hue= 'room_type',edgecolor='black',linewidth=0.3, ax=ax[1])"
   ]
  },
  {
   "cell_type": "code",
   "execution_count": null,
   "metadata": {
    "id": "gSnJJc8ZTUE6"
   },
   "outputs": [],
   "source": [
    "#원의 크기로 데이터 나타내기\n",
    "f, ax = plt.subplots(1, 1, figsize=(10, 8))\n",
    "\n",
    "sns.scatterplot(data=bnb_thr, x='longitude', y='latitude', hue=\"availability_365\", \n",
    "                palette='coolwarm', size='availability_365', sizes=(20,300))"
   ]
  },
  {
   "cell_type": "markdown",
   "metadata": {
    "id": "_OZyEsu5BW75"
   },
   "source": [
    "##5.선형 회귀 분석"
   ]
  },
  {
   "cell_type": "code",
   "execution_count": null,
   "metadata": {
    "id": "-_KInaljBV_N"
   },
   "outputs": [],
   "source": [
    "#필요한 패키지 불러오기\n",
    "from sklearn.linear_model import LogisticRegression\n",
    "from sklearn.linear_model import LinearRegression\n",
    "from sklearn.model_selection import train_test_split\n",
    "from sklearn.metrics import classification_report\n",
    "from sklearn.metrics import confusion_matrix\n",
    "from sklearn.metrics import r2_score\n",
    "from sklearn.preprocessing import LabelEncoder"
   ]
  },
  {
   "cell_type": "code",
   "execution_count": null,
   "metadata": {
    "id": "lI0y7sfSB7aH"
   },
   "outputs": [],
   "source": [
    "bnb_md = bnb"
   ]
  },
  {
   "cell_type": "code",
   "execution_count": null,
   "metadata": {
    "id": "Ut5mPNdbBhln"
   },
   "outputs": [],
   "source": [
    "#범주형 변수들을 라벨인코더로 변환시켜주기\n",
    "labelencoder = LabelEncoder()\n",
    "bnb_md['neighbourhood_group'] = labelencoder.fit_transform(bnb_md['neighbourhood_group'])\n",
    "bnb_md['neighbourhood'] = labelencoder.fit_transform(bnb_md['neighbourhood'])\n",
    "bnb_md['room_type'] = labelencoder.fit_transform(bnb_md['room_type'])"
   ]
  },
  {
   "cell_type": "code",
   "execution_count": null,
   "metadata": {
    "id": "p7E-kojABqBS"
   },
   "outputs": [],
   "source": [
    "feature_columns  = ['neighbourhood_group', 'neighbourhood', 'room_type', 'minimum_nights',\n",
    "                 'calculated_host_listings_count', 'availability_365']"
   ]
  },
  {
   "cell_type": "code",
   "execution_count": null,
   "metadata": {
    "id": "7Si4zqnaCDpE"
   },
   "outputs": [],
   "source": [
    "#설명변수\n",
    "X = bnb_md[feature_columns]\n",
    "#타겟변수\n",
    "y = bnb_md['price']\n",
    "\n",
    "#학습 데이터와 평가 데이터 나누기(7:3으로 나누자!)\n",
    "#train: 학습 데이터, test: 평가 데이터\n",
    "train_x, test_x, train_y, test_y = train_test_split(X, y, train_size=0.7,test_size=0.3,random_state=42)\n",
    "print(train_x.shape, test_x.shape, train_y.shape, test_y.shape)"
   ]
  },
  {
   "cell_type": "code",
   "execution_count": null,
   "metadata": {
    "id": "ANu3Ld5dBj54"
   },
   "outputs": [],
   "source": [
    "# 선형회귀분석\n",
    "linreg = LinearRegression()\n",
    "linreg.fit(train_x, train_y)"
   ]
  },
  {
   "cell_type": "code",
   "execution_count": null,
   "metadata": {
    "id": "JTokJBalCgMZ"
   },
   "outputs": [],
   "source": [
    "#결과 확인하기\n",
    "test_predict = linreg.predict(test_x) \n",
    "print('Accuracy on test set: {}'.format(linreg.score(test_x, test_y)))"
   ]
  },
  {
   "cell_type": "code",
   "execution_count": null,
   "metadata": {
    "id": "pQ_5gOdGCstk"
   },
   "outputs": [],
   "source": [
    "#결과 확인하기 2\n",
    "test_predict = linreg.predict(test_x) \n",
    "error = pd.DataFrame(np.array(test_y).flatten(),columns=['Actual'])\n",
    "error['Prediction'] = np.array(test_predict)\n",
    "error['Delta'] = abs(error['Actual'] - error['Prediction'])\n",
    "error.head(10)"
   ]
  },
  {
   "cell_type": "markdown",
   "metadata": {
    "id": "K-bUM6p_8oGJ"
   },
   "source": [
    "##6.Review"
   ]
  },
  {
   "cell_type": "markdown",
   "metadata": {
    "id": "adzyW1rF8pR_"
   },
   "source": [
    "* Airbnb 데이터는:  \n",
    "> 총 데이터 개수:  782320  \n",
    "총 결측치 수: 20141 = 전체 데이터의 2.57%   \n",
    "호스트 ID: 37457 개, 호스트 11452 명  \n",
    "2019년 뉴욕의 평균 Airbnb 금액: 152.72 $  \n",
    "* 가장 많이 에어비앤비에 리스트 된 호스트는?\n",
    "* 지역별로 가장 비싼 방과 저렴한 방은?\n",
    "* 뉴욕의 어느 지역이 가장 비쌀까?\n",
    "* 지역별로 에어비앤비 타입이 다를까?\n",
    "* 에어비앤비 금액을 예측할 수 있을까?:  \n",
    "> 이 데이터의 경우 다른 컬럼을 이용해 선형회귀로 금액을 예측하기 어려웠다.   \n",
    "데이터 분석이 중요한 이유!\n",
    "\n"
   ]
  },
  {
   "cell_type": "code",
   "execution_count": null,
   "metadata": {
    "id": "KCSv5Oz7HWF-"
   },
   "outputs": [],
   "source": [
    ""
   ]
  }
 ],
 "metadata": {
  "colab": {
   "authorship_tag": "ABX9TyN+NW0Ur0EDMFv4wp2b5p3T",
   "collapsed_sections": [],
   "name": "파이썬실습07_Airbnb_sol.ipynb",
   "provenance": [],
   "toc_visible": true
  },
  "kernelspec": {
   "display_name": "Python 3",
   "name": "python3"
  },
  "language_info": {
   "name": "python"
  }
 },
 "nbformat": 4,
 "nbformat_minor": 0
}
