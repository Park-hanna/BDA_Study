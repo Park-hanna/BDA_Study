{
 "cells": [
  {
   "cell_type": "markdown",
   "metadata": {
    "id": "ziBPzVMsPks3"
   },
   "source": [
    "#Data 05: Personal Loan data\n",
    "* Data from: [Personal Loan](https://www.kaggle.com/itsmesunil/bank-loan-modelling)  \n",
    "Personal Loan 데이터는 고객을 더 늘리고자 하는 가상의 은행 데이터이다.  \n",
    "이 회사의 경영진은 부채를 가진 고객을 개인 대출 고객으로 전환하는 방법을 모색하려고 한다."
   ]
  },
  {
   "cell_type": "markdown",
   "metadata": {
    "id": "2gXycufmPvUQ"
   },
   "source": [
    "##1.데이터 둘러보기"
   ]
  },
  {
   "cell_type": "code",
   "execution_count": null,
   "metadata": {
    "id": "Cof1_8_gPczg"
   },
   "outputs": [],
   "source": [
    "#한글 폰트 설정하기\n",
    "!sudo apt-get install -y fonts-nanum\n",
    "!sudo fc-cache -fv\n",
    "!rm ~/.cache/matplotlib -rf\n",
    "#런타임 다시 시작"
   ]
  },
  {
   "cell_type": "code",
   "execution_count": 1,
   "metadata": {
    "id": "PgYte1JSP0D4"
   },
   "outputs": [],
   "source": [
    "#기본 패키지 불러오기\n",
    "import math\n",
    "import numpy as np\n",
    "import pandas as pd\n",
    "import seaborn as sns\n",
    "import matplotlib.pyplot as plt\n",
    "\n",
    "plt.style.use('seaborn')\n",
    "sns.set(font_scale=1)\n",
    "plt.rc('font', family='NanumBarunGothic') \n",
    "plt.rcParams['font.family'] = 'NanumGothic'\n",
    "\n",
    "import warnings\n",
    "warnings.simplefilter(action='ignore', category=FutureWarning)"
   ]
  },
  {
   "cell_type": "code",
   "execution_count": 4,
   "metadata": {
    "colab": {
     "base_uri": "https://localhost:8080/",
     "height": 358
    },
    "executionInfo": {
     "elapsed": 267,
     "status": "error",
     "timestamp": 1626431428311,
     "user": {
      "displayName": "Nawon Robine Lee",
      "photoUrl": "https://lh3.googleusercontent.com/a-/AOh14Gi12ldamAsn1hqsJTrRmauAq2FzyRN7Dh2P2pyCVw=s64",
      "userId": "10284095111926858195"
     },
     "user_tz": -540
    },
    "id": "reB5yb4IP22K",
    "outputId": "54782494-e294-429d-faac-28abd27c0163"
   },
   "outputs": [],
   "source": [
    "#데이터 불러오기\n",
    "#데이터 파일 열어보면 sheet 1은 데이터 설명, sheet 2가 실제 데이터이므로 sheet 2만 가져온다!\n",
    "bk = pd.read_excel('Personal_Loan.xlsx', sheet_name=1)"
   ]
  },
  {
   "cell_type": "code",
   "execution_count": 5,
   "metadata": {
    "id": "eeYRAFJ7P4CN"
   },
   "outputs": [
    {
     "data": {
      "text/html": [
       "<div>\n",
       "<style scoped>\n",
       "    .dataframe tbody tr th:only-of-type {\n",
       "        vertical-align: middle;\n",
       "    }\n",
       "\n",
       "    .dataframe tbody tr th {\n",
       "        vertical-align: top;\n",
       "    }\n",
       "\n",
       "    .dataframe thead th {\n",
       "        text-align: right;\n",
       "    }\n",
       "</style>\n",
       "<table border=\"1\" class=\"dataframe\">\n",
       "  <thead>\n",
       "    <tr style=\"text-align: right;\">\n",
       "      <th></th>\n",
       "      <th>ID</th>\n",
       "      <th>Age</th>\n",
       "      <th>Experience</th>\n",
       "      <th>Income</th>\n",
       "      <th>ZIP Code</th>\n",
       "      <th>Family</th>\n",
       "      <th>CCAvg</th>\n",
       "      <th>Education</th>\n",
       "      <th>Mortgage</th>\n",
       "      <th>Personal Loan</th>\n",
       "      <th>Securities Account</th>\n",
       "      <th>CD Account</th>\n",
       "      <th>Online</th>\n",
       "      <th>CreditCard</th>\n",
       "    </tr>\n",
       "  </thead>\n",
       "  <tbody>\n",
       "    <tr>\n",
       "      <th>0</th>\n",
       "      <td>1</td>\n",
       "      <td>25</td>\n",
       "      <td>1</td>\n",
       "      <td>49</td>\n",
       "      <td>91107</td>\n",
       "      <td>4</td>\n",
       "      <td>1.6</td>\n",
       "      <td>1</td>\n",
       "      <td>0</td>\n",
       "      <td>0</td>\n",
       "      <td>1</td>\n",
       "      <td>0</td>\n",
       "      <td>0</td>\n",
       "      <td>0</td>\n",
       "    </tr>\n",
       "    <tr>\n",
       "      <th>1</th>\n",
       "      <td>2</td>\n",
       "      <td>45</td>\n",
       "      <td>19</td>\n",
       "      <td>34</td>\n",
       "      <td>90089</td>\n",
       "      <td>3</td>\n",
       "      <td>1.5</td>\n",
       "      <td>1</td>\n",
       "      <td>0</td>\n",
       "      <td>0</td>\n",
       "      <td>1</td>\n",
       "      <td>0</td>\n",
       "      <td>0</td>\n",
       "      <td>0</td>\n",
       "    </tr>\n",
       "    <tr>\n",
       "      <th>2</th>\n",
       "      <td>3</td>\n",
       "      <td>39</td>\n",
       "      <td>15</td>\n",
       "      <td>11</td>\n",
       "      <td>94720</td>\n",
       "      <td>1</td>\n",
       "      <td>1.0</td>\n",
       "      <td>1</td>\n",
       "      <td>0</td>\n",
       "      <td>0</td>\n",
       "      <td>0</td>\n",
       "      <td>0</td>\n",
       "      <td>0</td>\n",
       "      <td>0</td>\n",
       "    </tr>\n",
       "    <tr>\n",
       "      <th>3</th>\n",
       "      <td>4</td>\n",
       "      <td>35</td>\n",
       "      <td>9</td>\n",
       "      <td>100</td>\n",
       "      <td>94112</td>\n",
       "      <td>1</td>\n",
       "      <td>2.7</td>\n",
       "      <td>2</td>\n",
       "      <td>0</td>\n",
       "      <td>0</td>\n",
       "      <td>0</td>\n",
       "      <td>0</td>\n",
       "      <td>0</td>\n",
       "      <td>0</td>\n",
       "    </tr>\n",
       "    <tr>\n",
       "      <th>4</th>\n",
       "      <td>5</td>\n",
       "      <td>35</td>\n",
       "      <td>8</td>\n",
       "      <td>45</td>\n",
       "      <td>91330</td>\n",
       "      <td>4</td>\n",
       "      <td>1.0</td>\n",
       "      <td>2</td>\n",
       "      <td>0</td>\n",
       "      <td>0</td>\n",
       "      <td>0</td>\n",
       "      <td>0</td>\n",
       "      <td>0</td>\n",
       "      <td>1</td>\n",
       "    </tr>\n",
       "  </tbody>\n",
       "</table>\n",
       "</div>"
      ],
      "text/plain": [
       "   ID  Age  Experience  Income  ZIP Code  Family  CCAvg  Education  Mortgage  \\\n",
       "0   1   25           1      49     91107       4    1.6          1         0   \n",
       "1   2   45          19      34     90089       3    1.5          1         0   \n",
       "2   3   39          15      11     94720       1    1.0          1         0   \n",
       "3   4   35           9     100     94112       1    2.7          2         0   \n",
       "4   5   35           8      45     91330       4    1.0          2         0   \n",
       "\n",
       "   Personal Loan  Securities Account  CD Account  Online  CreditCard  \n",
       "0              0                   1           0       0           0  \n",
       "1              0                   1           0       0           0  \n",
       "2              0                   0           0       0           0  \n",
       "3              0                   0           0       0           0  \n",
       "4              0                   0           0       0           1  "
      ]
     },
     "execution_count": 5,
     "metadata": {},
     "output_type": "execute_result"
    }
   ],
   "source": [
    "#불러온 데이터 일단 보기\n",
    "bk.head(5)"
   ]
  },
  {
   "cell_type": "markdown",
   "metadata": {
    "id": "KXuwQVyrP-Bd"
   },
   "source": [
    "<컬럼 설명>\n",
    "\n",
    "* ID: 고객 번호\n",
    "* Age: 나이\n",
    "* Experience:   \n",
    "* Income: 연간 수입(000)  \n",
    "* Zipcode: 우편번호  \n",
    "* Family: 가족 구성원 수\n",
    "* CCAvg: 신용카드 월평균 이용 금액(000)  \n",
    "* Education: 학력(1: Undergrad, 2: Graduate, 3: Advanced/Professional)\n",
    "* Mortgage: 주택 담보 대출 금액(000)\n",
    "* Personal Loan: 지난번 영업에서 고객이 개인대출을 받았는가?(0: N, 1: Y)  \n",
    "* Securities Account: 보험 유무(0: N, 1: Y)  \n",
    "* CD Account:양도성 예금증서 보유 유무(0: N, 1: Y)  \n",
    "* Online: 온라인 뱅킹 유무(0: N, 1: Y)\n",
    "* Credit Card: 신용카드 보유 유무(0: N, 1: Y)\n"
   ]
  },
  {
   "cell_type": "markdown",
   "metadata": {
    "id": "E8CxrBd8P8o_"
   },
   "source": [
    "* 범주형 변수: *빈도frequency 계산 가능*\n",
    "               ID, zipcode, educaiont, personal loan, securities account, cd account, online, credit card\n",
    "* 연속형 변수: *평균, 표준편차, min/max 등 수치 계산 가능*\n",
    "               age, experience, income, family, ccavg, mortgage"
   ]
  },
  {
   "cell_type": "code",
   "execution_count": 6,
   "metadata": {
    "id": "By1dyVhxQAMB"
   },
   "outputs": [
    {
     "name": "stdout",
     "output_type": "stream",
     "text": [
      "<class 'pandas.core.frame.DataFrame'>\n",
      "RangeIndex: 5000 entries, 0 to 4999\n",
      "Data columns (total 14 columns):\n",
      " #   Column              Non-Null Count  Dtype  \n",
      "---  ------              --------------  -----  \n",
      " 0   ID                  5000 non-null   int64  \n",
      " 1   Age                 5000 non-null   int64  \n",
      " 2   Experience          5000 non-null   int64  \n",
      " 3   Income              5000 non-null   int64  \n",
      " 4   ZIP Code            5000 non-null   int64  \n",
      " 5   Family              5000 non-null   int64  \n",
      " 6   CCAvg               5000 non-null   float64\n",
      " 7   Education           5000 non-null   int64  \n",
      " 8   Mortgage            5000 non-null   int64  \n",
      " 9   Personal Loan       5000 non-null   int64  \n",
      " 10  Securities Account  5000 non-null   int64  \n",
      " 11  CD Account          5000 non-null   int64  \n",
      " 12  Online              5000 non-null   int64  \n",
      " 13  CreditCard          5000 non-null   int64  \n",
      "dtypes: float64(1), int64(13)\n",
      "memory usage: 547.0 KB\n"
     ]
    }
   ],
   "source": [
    "#데이터 기본 정보 확인하기\n",
    "bk.info()"
   ]
  },
  {
   "cell_type": "code",
   "execution_count": 7,
   "metadata": {
    "id": "LBAgZ0PKVkvF"
   },
   "outputs": [
    {
     "name": "stdout",
     "output_type": "stream",
     "text": [
      "Education:  [1 2 3]\n",
      "Personal Loan:  [0 1]\n",
      "Securities Account:  [1 0]\n",
      "CD Account:  [0 1]\n",
      "Online:  [0 1]\n",
      "CreditCard:  [0 1]\n"
     ]
    }
   ],
   "source": [
    "#변수형 컬럼 안에는 어떤 내용이 들어있을까?\n",
    "print('Education: ', bk['Education'].unique())\n",
    "print('Personal Loan: ', bk['Personal Loan'].unique())\n",
    "print('Securities Account: ', bk['Securities Account'].unique())\n",
    "print('CD Account: ', bk['CD Account'].unique())\n",
    "print('Online: ', bk['Online'].unique())\n",
    "print('CreditCard: ', bk['CreditCard'].unique())"
   ]
  },
  {
   "cell_type": "code",
   "execution_count": 8,
   "metadata": {
    "id": "Xn0GRBSJQBU-"
   },
   "outputs": [
    {
     "data": {
      "text/html": [
       "<div>\n",
       "<style scoped>\n",
       "    .dataframe tbody tr th:only-of-type {\n",
       "        vertical-align: middle;\n",
       "    }\n",
       "\n",
       "    .dataframe tbody tr th {\n",
       "        vertical-align: top;\n",
       "    }\n",
       "\n",
       "    .dataframe thead th {\n",
       "        text-align: right;\n",
       "    }\n",
       "</style>\n",
       "<table border=\"1\" class=\"dataframe\">\n",
       "  <thead>\n",
       "    <tr style=\"text-align: right;\">\n",
       "      <th></th>\n",
       "      <th>count</th>\n",
       "      <th>mean</th>\n",
       "      <th>std</th>\n",
       "      <th>min</th>\n",
       "      <th>25%</th>\n",
       "      <th>50%</th>\n",
       "      <th>75%</th>\n",
       "      <th>max</th>\n",
       "    </tr>\n",
       "  </thead>\n",
       "  <tbody>\n",
       "    <tr>\n",
       "      <th>ID</th>\n",
       "      <td>5000.0</td>\n",
       "      <td>2500.500000</td>\n",
       "      <td>1443.520003</td>\n",
       "      <td>1.0</td>\n",
       "      <td>1250.75</td>\n",
       "      <td>2500.5</td>\n",
       "      <td>3750.25</td>\n",
       "      <td>5000.0</td>\n",
       "    </tr>\n",
       "    <tr>\n",
       "      <th>Age</th>\n",
       "      <td>5000.0</td>\n",
       "      <td>45.338400</td>\n",
       "      <td>11.463166</td>\n",
       "      <td>23.0</td>\n",
       "      <td>35.00</td>\n",
       "      <td>45.0</td>\n",
       "      <td>55.00</td>\n",
       "      <td>67.0</td>\n",
       "    </tr>\n",
       "    <tr>\n",
       "      <th>Experience</th>\n",
       "      <td>5000.0</td>\n",
       "      <td>20.104600</td>\n",
       "      <td>11.467954</td>\n",
       "      <td>-3.0</td>\n",
       "      <td>10.00</td>\n",
       "      <td>20.0</td>\n",
       "      <td>30.00</td>\n",
       "      <td>43.0</td>\n",
       "    </tr>\n",
       "    <tr>\n",
       "      <th>Income</th>\n",
       "      <td>5000.0</td>\n",
       "      <td>73.774200</td>\n",
       "      <td>46.033729</td>\n",
       "      <td>8.0</td>\n",
       "      <td>39.00</td>\n",
       "      <td>64.0</td>\n",
       "      <td>98.00</td>\n",
       "      <td>224.0</td>\n",
       "    </tr>\n",
       "    <tr>\n",
       "      <th>ZIP Code</th>\n",
       "      <td>5000.0</td>\n",
       "      <td>93152.503000</td>\n",
       "      <td>2121.852197</td>\n",
       "      <td>9307.0</td>\n",
       "      <td>91911.00</td>\n",
       "      <td>93437.0</td>\n",
       "      <td>94608.00</td>\n",
       "      <td>96651.0</td>\n",
       "    </tr>\n",
       "    <tr>\n",
       "      <th>Family</th>\n",
       "      <td>5000.0</td>\n",
       "      <td>2.396400</td>\n",
       "      <td>1.147663</td>\n",
       "      <td>1.0</td>\n",
       "      <td>1.00</td>\n",
       "      <td>2.0</td>\n",
       "      <td>3.00</td>\n",
       "      <td>4.0</td>\n",
       "    </tr>\n",
       "    <tr>\n",
       "      <th>CCAvg</th>\n",
       "      <td>5000.0</td>\n",
       "      <td>1.937913</td>\n",
       "      <td>1.747666</td>\n",
       "      <td>0.0</td>\n",
       "      <td>0.70</td>\n",
       "      <td>1.5</td>\n",
       "      <td>2.50</td>\n",
       "      <td>10.0</td>\n",
       "    </tr>\n",
       "    <tr>\n",
       "      <th>Education</th>\n",
       "      <td>5000.0</td>\n",
       "      <td>1.881000</td>\n",
       "      <td>0.839869</td>\n",
       "      <td>1.0</td>\n",
       "      <td>1.00</td>\n",
       "      <td>2.0</td>\n",
       "      <td>3.00</td>\n",
       "      <td>3.0</td>\n",
       "    </tr>\n",
       "    <tr>\n",
       "      <th>Mortgage</th>\n",
       "      <td>5000.0</td>\n",
       "      <td>56.498800</td>\n",
       "      <td>101.713802</td>\n",
       "      <td>0.0</td>\n",
       "      <td>0.00</td>\n",
       "      <td>0.0</td>\n",
       "      <td>101.00</td>\n",
       "      <td>635.0</td>\n",
       "    </tr>\n",
       "    <tr>\n",
       "      <th>Personal Loan</th>\n",
       "      <td>5000.0</td>\n",
       "      <td>0.096000</td>\n",
       "      <td>0.294621</td>\n",
       "      <td>0.0</td>\n",
       "      <td>0.00</td>\n",
       "      <td>0.0</td>\n",
       "      <td>0.00</td>\n",
       "      <td>1.0</td>\n",
       "    </tr>\n",
       "    <tr>\n",
       "      <th>Securities Account</th>\n",
       "      <td>5000.0</td>\n",
       "      <td>0.104400</td>\n",
       "      <td>0.305809</td>\n",
       "      <td>0.0</td>\n",
       "      <td>0.00</td>\n",
       "      <td>0.0</td>\n",
       "      <td>0.00</td>\n",
       "      <td>1.0</td>\n",
       "    </tr>\n",
       "    <tr>\n",
       "      <th>CD Account</th>\n",
       "      <td>5000.0</td>\n",
       "      <td>0.060400</td>\n",
       "      <td>0.238250</td>\n",
       "      <td>0.0</td>\n",
       "      <td>0.00</td>\n",
       "      <td>0.0</td>\n",
       "      <td>0.00</td>\n",
       "      <td>1.0</td>\n",
       "    </tr>\n",
       "    <tr>\n",
       "      <th>Online</th>\n",
       "      <td>5000.0</td>\n",
       "      <td>0.596800</td>\n",
       "      <td>0.490589</td>\n",
       "      <td>0.0</td>\n",
       "      <td>0.00</td>\n",
       "      <td>1.0</td>\n",
       "      <td>1.00</td>\n",
       "      <td>1.0</td>\n",
       "    </tr>\n",
       "    <tr>\n",
       "      <th>CreditCard</th>\n",
       "      <td>5000.0</td>\n",
       "      <td>0.294000</td>\n",
       "      <td>0.455637</td>\n",
       "      <td>0.0</td>\n",
       "      <td>0.00</td>\n",
       "      <td>0.0</td>\n",
       "      <td>1.00</td>\n",
       "      <td>1.0</td>\n",
       "    </tr>\n",
       "  </tbody>\n",
       "</table>\n",
       "</div>"
      ],
      "text/plain": [
       "                     count          mean          std     min       25%  \\\n",
       "ID                  5000.0   2500.500000  1443.520003     1.0   1250.75   \n",
       "Age                 5000.0     45.338400    11.463166    23.0     35.00   \n",
       "Experience          5000.0     20.104600    11.467954    -3.0     10.00   \n",
       "Income              5000.0     73.774200    46.033729     8.0     39.00   \n",
       "ZIP Code            5000.0  93152.503000  2121.852197  9307.0  91911.00   \n",
       "Family              5000.0      2.396400     1.147663     1.0      1.00   \n",
       "CCAvg               5000.0      1.937913     1.747666     0.0      0.70   \n",
       "Education           5000.0      1.881000     0.839869     1.0      1.00   \n",
       "Mortgage            5000.0     56.498800   101.713802     0.0      0.00   \n",
       "Personal Loan       5000.0      0.096000     0.294621     0.0      0.00   \n",
       "Securities Account  5000.0      0.104400     0.305809     0.0      0.00   \n",
       "CD Account          5000.0      0.060400     0.238250     0.0      0.00   \n",
       "Online              5000.0      0.596800     0.490589     0.0      0.00   \n",
       "CreditCard          5000.0      0.294000     0.455637     0.0      0.00   \n",
       "\n",
       "                        50%       75%      max  \n",
       "ID                   2500.5   3750.25   5000.0  \n",
       "Age                    45.0     55.00     67.0  \n",
       "Experience             20.0     30.00     43.0  \n",
       "Income                 64.0     98.00    224.0  \n",
       "ZIP Code            93437.0  94608.00  96651.0  \n",
       "Family                  2.0      3.00      4.0  \n",
       "CCAvg                   1.5      2.50     10.0  \n",
       "Education               2.0      3.00      3.0  \n",
       "Mortgage                0.0    101.00    635.0  \n",
       "Personal Loan           0.0      0.00      1.0  \n",
       "Securities Account      0.0      0.00      1.0  \n",
       "CD Account              0.0      0.00      1.0  \n",
       "Online                  1.0      1.00      1.0  \n",
       "CreditCard              0.0      1.00      1.0  "
      ]
     },
     "execution_count": 8,
     "metadata": {},
     "output_type": "execute_result"
    }
   ],
   "source": [
    "#연속형(수치) 데이터의 통계치 확인하기\n",
    "bk.describe().transpose()"
   ]
  },
  {
   "cell_type": "code",
   "execution_count": 9,
   "metadata": {
    "id": "yFmMueVeVXOE"
   },
   "outputs": [
    {
     "name": "stdout",
     "output_type": "stream",
     "text": [
      "총 데이터 수:  70000\n",
      "총 결측치 수: 0 = 전체 데이터의 0.00% \n",
      "Thera bank 고객의 나이는 23세부터 67세까지 있으며 평균 나이는 45.3세이다.\n",
      "Thera bank 고객의 평균 수입은 73774.2 $이며, 최고수입은 224000 $로 평균의 3.0배이다.\n"
     ]
    }
   ],
   "source": [
    "#데이터 내용 정리해서 출력하기\n",
    "print(\"총 데이터 수: \", bk.shape[0]*bk.shape[1])\n",
    "print(\"총 결측치 수: {} = 전체 데이터의 {:.2f}% \".format(bk.isnull().sum().sum(), (bk.isnull().sum().sum()*100)/(bk.shape[0]*bk.shape[1])))\n",
    "print(\"Thera bank 고객의 나이는 {}세부터 {}세까지 있으며 평균 나이는 {:.1f}세이다.\".format((bk['Age'].min()),(bk['Age'].max()), (bk['Age'].mean())))\n",
    "print(\"Thera bank 고객의 평균 수입은 {:.1f} $이며, 최고수입은 {} $로 평균의 {:.1f}배이다.\".format((bk['Income'].mean()*1000), (bk['Income'].max()*1000), (bk['Income'].max()/(bk['Income'].mean()))))"
   ]
  },
  {
   "cell_type": "markdown",
   "metadata": {
    "id": "42kOwzrCZ3mm"
   },
   "source": [
    "##2.질문하기\n",
    "\n",
    "* 수입/월평균신용카드사용량/가족인원수와 대출 사이의 관계는?\n",
    "* 월 평균 사용 금액을 구간화 해서 특징을 볼 수 있을까?\n",
    "* 로지스틱 회귀 분석을 사용해서 신규 고객의 대출여부를 예측하는 모델 만들기\n"
   ]
  },
  {
   "cell_type": "markdown",
   "metadata": {
    "id": "JNpwP5AKZ9G6"
   },
   "source": [
    "##3.데이터 정비하기"
   ]
  },
  {
   "cell_type": "markdown",
   "metadata": {
    "id": "xyXu15R-Z9sr"
   },
   "source": [
    "###3-1. 컬럼명 바꾸기"
   ]
  },
  {
   "cell_type": "code",
   "execution_count": 12,
   "metadata": {
    "id": "x2sH7lQSZ28N"
   },
   "outputs": [
    {
     "data": {
      "text/plain": [
       "0"
      ]
     },
     "execution_count": 12,
     "metadata": {},
     "output_type": "execute_result"
    }
   ],
   "source": [
    "#중복 데이터 확인\n",
    "bk.duplicated().sum()"
   ]
  },
  {
   "cell_type": "code",
   "execution_count": null,
   "metadata": {
    "id": "mUczpbT0X7bE"
   },
   "outputs": [],
   "source": [
    "#컬럼명 확인하기\n",
    "bk.columns"
   ]
  },
  {
   "cell_type": "code",
   "execution_count": null,
   "metadata": {
    "id": "N0RhwO_iaKso"
   },
   "outputs": [],
   "source": [
    "#컬럼명 변경하기\n",
    "bk.columns = ['id', 'age', 'exp', 'income', 'zip', 'fam', 'ccavg',\n",
    "       'edu', 'mort', 'loan', 'secu',\n",
    "       'cd', 'online', 'cc']\n",
    "bk.columns"
   ]
  },
  {
   "cell_type": "markdown",
   "metadata": {
    "id": "GazAqikW87eH"
   },
   "source": [
    "###3-2. 필요없는 컬럼 제거"
   ]
  },
  {
   "cell_type": "code",
   "execution_count": null,
   "metadata": {
    "id": "MOWAGmCj86sy"
   },
   "outputs": [],
   "source": [
    "#id, zip code는 분석과 큰 연관관계가 없으므로 제거\n",
    "bk1 = bk.drop(['id','zip'], axis=1, inplace=False)"
   ]
  },
  {
   "cell_type": "code",
   "execution_count": null,
   "metadata": {
    "id": "Kyyv1moH9QB7"
   },
   "outputs": [],
   "source": [
    "bk1.head()"
   ]
  },
  {
   "cell_type": "markdown",
   "metadata": {
    "id": "2pTlwIs6alAC"
   },
   "source": [
    "##4.EDA & Visualization"
   ]
  },
  {
   "cell_type": "markdown",
   "metadata": {
    "id": "3QQQJVaZanW5"
   },
   "source": [
    "###4-1. 간단한 분석"
   ]
  },
  {
   "cell_type": "code",
   "execution_count": null,
   "metadata": {
    "id": "dywmas3acZgT"
   },
   "outputs": [],
   "source": [
    "#수입과 대출 사이의 관계 집계하기\n",
    "df1 = bk1.groupby('loan')['income'].agg([np.mean,'count'])\n",
    "df1.rename(columns={'mean': 'Income Mean','count':'Number of People'})"
   ]
  },
  {
   "cell_type": "code",
   "execution_count": null,
   "metadata": {
    "id": "NoTCgJfQc2S0"
   },
   "outputs": [],
   "source": [
    "#월평균 신용카드 사용액과 대출 사이의 관계 집계하기\n",
    "df2 = bk1.groupby('loan')['ccavg'].agg([np.mean,'count'])\n",
    "df2.rename(columns={'mean': 'CCAvg Mean','count':'Number of People'})"
   ]
  },
  {
   "cell_type": "code",
   "execution_count": null,
   "metadata": {
    "id": "PwMcj8kodFQ_"
   },
   "outputs": [],
   "source": [
    "#가족 인원수와 대출 사이의 관계 집계하기\n",
    "df3 = bk1.groupby('fam')['loan'].agg([np.mean,'count'])\n",
    "df3.rename(columns={'mean': 'Personal Loan Mean','count':'Number of People'})"
   ]
  },
  {
   "cell_type": "markdown",
   "metadata": {
    "id": "4bP2p6gkdb9d"
   },
   "source": [
    "###4-2. 변수의 분포 확인하기"
   ]
  },
  {
   "cell_type": "code",
   "execution_count": null,
   "metadata": {
    "id": "kj37vpXeagsv"
   },
   "outputs": [],
   "source": [
    "#연속형 변수의 분포 확인하기\n",
    "f, ax = plt.subplots(2, 3, figsize=(17, 9))\n",
    "\n",
    "sns.distplot(bk1['age'], ax=ax[0,0])\n",
    "sns.distplot(bk1['exp'], ax=ax[0,1])\n",
    "sns.distplot(bk1['income'], ax=ax[0,2])\n",
    "sns.distplot(bk1['fam'], ax=ax[1,0])\n",
    "sns.distplot(bk1['ccavg'], ax=ax[1,1])\n",
    "#sns.distplot(bk['mort'], ax=ax[1,2])\n",
    "sns.distplot(bk1['mort'][bk1['mort'] != 0], ax=ax[1,2])\n",
    "\n",
    "plt.show()"
   ]
  },
  {
   "cell_type": "code",
   "execution_count": null,
   "metadata": {
    "id": "sx0OvIqnMpey"
   },
   "outputs": [],
   "source": [
    "#Age, exp, income에 대해 좀 더 그래프를 자세히 그려보자\n",
    "#세로선으로 평균값, 25, 50, 75% 선을 그어주자\n",
    "def drawline(plt, col):\n",
    "    mean = bk1.describe().loc['mean', col]\n",
    "    m25 = bk1.describe().loc['25%', col]\n",
    "    m50 = bk1.describe().loc['50%', col]\n",
    "    m75 = bk1.describe().loc['75%', col]\n",
    "    plt.axvline(mean, color = 'red')\n",
    "    plt.axvline(m25, color = 'blue')\n",
    "    plt.axvline(m50, color = 'navy')\n",
    "    plt.axvline(m75, color = 'purple')\n",
    "    plt.legend({'Mean': mean, '25%' : m25, '50%' : m50, '75%' : m75})\n",
    "\n",
    "f, ax = plt.subplots(3, 1, figsize=(12, 13))\n",
    "\n",
    "\n",
    "pp = sns.distplot(bk1['age'], ax = ax[0], bins = 10, color = 'orange')\n",
    "drawline(pp, 'age')\n",
    "pp = sns.distplot(bk1['exp'], ax = ax[1], bins = 10, color = 'orange')\n",
    "drawline(pp, 'exp')\n",
    "pp = sns.distplot(bk1['income'], ax = ax[2], color = 'orange')\n",
    "drawline(pp, 'income')"
   ]
  },
  {
   "cell_type": "code",
   "execution_count": null,
   "metadata": {
    "id": "Nwd11t69ysPY"
   },
   "outputs": [],
   "source": [
    "#범주형 변수 확인하기\n",
    "f, ax = plt.subplots(1, 3, figsize=(16, 6))\n",
    "\n",
    "sns.violinplot(bk1['loan'],bk1['income'],ax=ax[0]);\n",
    "sns.violinplot(bk1['loan'],bk1['age'],ax=ax[1]);\n",
    "sns.violinplot(bk1['loan'],bk1['exp'],ax=ax[2]);\n",
    "\n",
    "plt.show()\n",
    "\n",
    "#수입이 높을 때 personal loan을 받을 확률이 높다!"
   ]
  },
  {
   "cell_type": "markdown",
   "metadata": {
    "id": "CEIyq0xv3n_w"
   },
   "source": [
    "###4-3. 변수 간 상관관계 파악하기"
   ]
  },
  {
   "cell_type": "code",
   "execution_count": null,
   "metadata": {
    "id": "xVWOzOK82ruz"
   },
   "outputs": [],
   "source": [
    "#Heat map을 그려서 변수 간 상관관계를 파악하자\n",
    "f, ax = plt.subplots(1, 1, figsize=(15, 15))\n",
    "sns.heatmap(bk1.corr(), ax=ax, annot=True, fmt='.2g')\n",
    "\n",
    "#가장 상관관계가 높은 것은 나이와 경험(0.99).\n",
    "#CCAvg와 수입은 중간 정도의 상관관계(0.65)를 가진다.\n",
    "#수입은 CCAvg, Mortgage, CD Account, Personal Loan에 영향을 미친다\n"
   ]
  },
  {
   "cell_type": "markdown",
   "metadata": {
    "id": "LjoRXj3JUNLq"
   },
   "source": [
    "###4-4. 구간화 해서 그래프 그리기"
   ]
  },
  {
   "cell_type": "code",
   "execution_count": null,
   "metadata": {
    "id": "3Tn8uRKuWDVW"
   },
   "outputs": [],
   "source": [
    "#신용카드 월평균 이용금액을 구간화 하자\n",
    "df4 = bk1[['ccavg', 'cc', 'loan']]\n",
    "df4['ccavg_bin'] = pd.cut(df4['ccavg'], bins = [0, 2, 4, 6, 100], labels = ['0-2', '3-4', '5-6', '7+'])\n",
    "df4"
   ]
  },
  {
   "cell_type": "code",
   "execution_count": null,
   "metadata": {
    "id": "6VY5SnzHZyoo"
   },
   "outputs": [],
   "source": [
    "#구간별로 신용카드 유무와 신용카드 월평균 사용액 집계\n",
    "df5 = df4.groupby(['ccavg_bin', 'cc'])['ccavg'].sum().reset_index()\n",
    "df5"
   ]
  },
  {
   "cell_type": "code",
   "execution_count": null,
   "metadata": {
    "id": "hOzDoGIvV0HR"
   },
   "outputs": [],
   "source": [
    "#구간화 결과를 그래프로 나타내자(bar plot)\n",
    "f, ax= plt.subplots(1, 2, figsize = (16, 6))\n",
    "\n",
    "sns.barplot(df5['ccavg_bin'], df5['ccavg'], hue = df5['cc'], palette= \"cividis\", ax=ax[0]);\n",
    "ax[0].set(xlabel = 'CC avg bins', ylabel = 'Count of customers')\n",
    "\n",
    "#참조할 수 있도록 수입과 신용카드 월평균 사용액을 함께 나타내자\n",
    "sns.scatterplot(x='income', y='ccavg', data=bk1, ax=ax[1], hue = 'loan', palette= \"cividis\", alpha=0.6)"
   ]
  },
  {
   "cell_type": "markdown",
   "metadata": {
    "id": "ZWfXKwrAgnJB"
   },
   "source": [
    "##5.로지스틱 회귀분석  \n",
    "로지스틱 회귀분석(Logistic regression):  \n",
    "종속변수와 독립변수 사이의 관계를 함수로 나타내어, 이 다음을 예측하는 방식.  \n",
    "독립변수 사이의 선형 결합으로 종속변수를 설명하는 것은 선형 회귀와 동일하지만, 종속변수가 범주형 데이터를 대상으로 한다는 점이 다르다."
   ]
  },
  {
   "cell_type": "code",
   "execution_count": null,
   "metadata": {
    "id": "VmZETNXGPilB"
   },
   "outputs": [],
   "source": [
    "#로지스틱 회귀분석에 필요한 sklearn 패키지 등등 불러오기\n",
    "import os\n",
    "\n",
    "from sklearn.linear_model import LogisticRegression\n",
    "from sklearn.model_selection import train_test_split\n",
    "from sklearn import metrics\n",
    "from sklearn.preprocessing import StandardScaler, LabelEncoder\n",
    "from sklearn.metrics import confusion_matrix\n",
    "from sklearn.metrics import accuracy_score, roc_auc_score, roc_curve\n",
    "\n",
    "import statsmodels.api as sm\n",
    "import itertools\n",
    "import time\n",
    "import sklearn.preprocessing as preprocessing"
   ]
  },
  {
   "cell_type": "markdown",
   "metadata": {
    "id": "31LhktliJY1H"
   },
   "source": [
    "###5-1. 데이터 나누기\n",
    "설명변수(X), 타겟변수(Y) 분리 및 학습데이터와 평가데이터 "
   ]
  },
  {
   "cell_type": "markdown",
   "metadata": {
    "id": "2mRfRzE0LxqX"
   },
   "source": [
    "* 회귀분석의 목표:  \n",
    "어떤 특징을 가진 고객이 개인대출을 받을 것인가?"
   ]
  },
  {
   "cell_type": "code",
   "execution_count": 13,
   "metadata": {
    "id": "baJJUnEh83zu"
   },
   "outputs": [
    {
     "ename": "NameError",
     "evalue": "name 'bk1' is not defined",
     "output_type": "error",
     "traceback": [
      "\u001b[1;31m---------------------------------------------------------------------------\u001b[0m",
      "\u001b[1;31mNameError\u001b[0m                                 Traceback (most recent call last)",
      "Input \u001b[1;32mIn [13]\u001b[0m, in \u001b[0;36m<cell line: 2>\u001b[1;34m()\u001b[0m\n\u001b[0;32m      1\u001b[0m \u001b[38;5;66;03m#loan이 타겟변수, 나머지 컬럼이 설명변수가 된다\u001b[39;00m\n\u001b[1;32m----> 2\u001b[0m feature_columns \u001b[38;5;241m=\u001b[39m \u001b[38;5;28mlist\u001b[39m(\u001b[43mbk1\u001b[49m\u001b[38;5;241m.\u001b[39mcolumns\u001b[38;5;241m.\u001b[39mdifference([\u001b[38;5;124m'\u001b[39m\u001b[38;5;124mloan\u001b[39m\u001b[38;5;124m'\u001b[39m]))\n\u001b[0;32m      3\u001b[0m feature_columns\n",
      "\u001b[1;31mNameError\u001b[0m: name 'bk1' is not defined"
     ]
    }
   ],
   "source": [
    "#loan이 타겟변수, 나머지 컬럼이 설명변수가 된다\n",
    "feature_columns = list(bk1.columns.difference(['loan']))\n",
    "feature_columns"
   ]
  },
  {
   "cell_type": "code",
   "execution_count": null,
   "metadata": {
    "id": "UQfeWg8VLjKq"
   },
   "outputs": [],
   "source": [
    "#설명변수\n",
    "X = bk1[feature_columns]\n",
    "#타겟변수\n",
    "y = bk1['loan'] # 대출여부: 1 or 0"
   ]
  },
  {
   "cell_type": "code",
   "execution_count": null,
   "metadata": {
    "id": "Nl0612mzbcZB"
   },
   "outputs": [],
   "source": [
    "#학습 데이터와 평가 데이터 나누기(7:3으로 나누자!)\n",
    "#train: 학습 데이터, test: 평가 데이터\n",
    "train_x, test_x, train_y, test_y = train_test_split(X, y, stratify=y,train_size=0.7,test_size=0.3,random_state=42)\n",
    "print(train_x.shape, test_x.shape, train_y.shape, test_y.shape)"
   ]
  },
  {
   "cell_type": "code",
   "execution_count": null,
   "metadata": {
    "id": "a06UOvn080hJ"
   },
   "outputs": [],
   "source": [
    "train_x"
   ]
  },
  {
   "cell_type": "code",
   "execution_count": null,
   "metadata": {
    "id": "8oPI2MtO8acW"
   },
   "outputs": [],
   "source": [
    "#각 컬럼의 값들이 정규분포를 가지도록 scaling 해 주는 과정\n",
    "scaler = StandardScaler()\n",
    "train_x = scaler.fit_transform(train_x)\n",
    "test_x = scaler.fit_transform(test_x)"
   ]
  },
  {
   "cell_type": "code",
   "execution_count": null,
   "metadata": {
    "id": "k_p4JOWM821e"
   },
   "outputs": [],
   "source": [
    "train_x"
   ]
  },
  {
   "cell_type": "markdown",
   "metadata": {
    "id": "9tC3NM9pSHul"
   },
   "source": [
    "###5-2. 모델 만들기"
   ]
  },
  {
   "cell_type": "code",
   "execution_count": null,
   "metadata": {
    "id": "LxpY0_5aQtbG"
   },
   "outputs": [],
   "source": [
    "#모델 만들기: 알고리즘 방식 = liblinear, iteration 최대 횟수 = 2000\n",
    "lrm = LogisticRegression(solver='liblinear', max_iter=2000)"
   ]
  },
  {
   "cell_type": "code",
   "execution_count": null,
   "metadata": {
    "id": "ZgPcrjdKU1r8"
   },
   "outputs": [],
   "source": [
    "#학습 데이터 집어넣기\n",
    "lrm.fit(train_x, train_y)"
   ]
  },
  {
   "cell_type": "code",
   "execution_count": null,
   "metadata": {
    "id": "0-r9jsoYVfa_"
   },
   "outputs": [],
   "source": [
    "#모델에서 산출된 계수 확인하기\n",
    "coeff_df = pd.DataFrame(lrm.coef_)\n",
    "coeff_df['Intercept'] = lrm.intercept_\n",
    "coeff_df"
   ]
  },
  {
   "cell_type": "markdown",
   "metadata": {
    "id": "cqWzbuBfVepu"
   },
   "source": [
    "###5-3. 모델링 결과 확인하기"
   ]
  },
  {
   "cell_type": "code",
   "execution_count": null,
   "metadata": {
    "id": "0kkDNe8yWjUU"
   },
   "outputs": [],
   "source": [
    "#모델에 학습 데이터를 넣어 정확도(accuracy) 확인하자\n",
    "training_predict = lrm.predict(train_x)\n",
    "print('학습 데이터를 넣었을 때 모델의 정확도: {:.4f}'.format(metrics.accuracy_score(train_y, training_predict)))"
   ]
  },
  {
   "cell_type": "code",
   "execution_count": null,
   "metadata": {
    "id": "nqvhXWT2WS_u"
   },
   "outputs": [],
   "source": [
    "#학습 데이터로 만든 모델에 테스트 데이터를 넣어 어떤 분류가 되었는지 확인하자\n",
    "test_predict = lrm.predict(test_x)\n",
    "print('테스트 데이터를 넣었을 때 모델의 정확도: {:.4f}'.format(metrics.accuracy_score(test_y, test_predict)))"
   ]
  },
  {
   "cell_type": "markdown",
   "metadata": {
    "id": "yfBk68q4ZKj1"
   },
   "source": [
    "###5-4. Confusion matrix & Report"
   ]
  },
  {
   "cell_type": "code",
   "execution_count": null,
   "metadata": {
    "id": "QStJzBV_Wi8D"
   },
   "outputs": [],
   "source": [
    "#confusion matrix 구하기\n",
    "logistic_cm = metrics.confusion_matrix(test_y, test_predict, labels=[1,0])\n",
    "print(logistic_cm)"
   ]
  },
  {
   "cell_type": "code",
   "execution_count": null,
   "metadata": {
    "id": "Na4f9JebnLlO"
   },
   "outputs": [],
   "source": [
    "logistic_cm_df = pd.DataFrame(logistic_cm, index = [i for i in ['1','0']], columns = [i for i in ['predict 1', 'predict 0']])\n",
    "logistic_cm_df"
   ]
  },
  {
   "cell_type": "code",
   "execution_count": null,
   "metadata": {
    "id": "zjeXSQtFaCyE"
   },
   "outputs": [],
   "source": [
    "f, ax= plt.subplots(1, 1, figsize = (10, 6))\n",
    "plt.title('Confusion Matrix for Logistic Regression Model', size=15)\n",
    "sns.heatmap(logistic_cm_df, annot=True, fmt='g',ax=ax)\n",
    "\n",
    "#True Positives: 대출 제안을 받을 사람을 정확하게 예측  =  95\n",
    "#True Negatives (TN): 대출 제안을 거절할 사람을 정확하게 예측  =  1334\n",
    "#False Positives (FP): 대출 제안을 받을 것으로 잘못 판단(Type I error)  =  22\n",
    "#False Negatives (FN): 대출 제안을 받지 않을 것으로 잘못 판단(Type II error)  =  49"
   ]
  },
  {
   "cell_type": "code",
   "execution_count": null,
   "metadata": {
    "id": "SFZAivBTopGl"
   },
   "outputs": [],
   "source": [
    "print('Logistic Regression Model - Classification Report')\n",
    "print('')\n",
    "print(metrics.classification_report(test_y, test_predict, labels=[1,0]))"
   ]
  },
  {
   "cell_type": "markdown",
   "metadata": {
    "id": "wKQCYMPOuKar"
   },
   "source": [
    "##6.Review"
   ]
  },
  {
   "cell_type": "markdown",
   "metadata": {
    "id": "ERotlql5uGSh"
   },
   "source": [
    "* Thera bank 데이터는:  \n",
    "총 데이터 수:  70000  \n",
    "총 결측치 수: 0 = 전체 데이터의 0.00%   \n",
    "Thera bank 고객의 나이는 23세부터 67세까지 있으며 평균 나이는 45.3세이다.  \n",
    "Thera bank 고객의 평균 수입은 73774.2 $이며, 최고수입은 224000 $로 평균의 3.0배이다.\n",
    "\n",
    "* 수입/월평균신용카드사용량/가족인원수와 대출 사이의 관계는?  \n",
    "   : 대출 받은 사람의 수입이 대출 받지 않은 사람보다 3배 정도 높다  \n",
    "   : 대출받은 사람이 받지 않은 사람보다 월평균 신용카드 사용액이 2배 가량 높다  \n",
    "   : 가족 인원수가 많을 수록 대출 금액이 올라가나 정비례 하지는 않는다  \n",
    "* 월 평균 사용 금액을 구간화 해서 특징을 볼 수 있을까?\n",
    "* 로지스틱 회귀 분석을 사용해서 신규 고객의 대출여부를 예측하는 모델 만들기\n"
   ]
  },
  {
   "cell_type": "code",
   "execution_count": null,
   "metadata": {
    "id": "hB65egX7-ZPZ"
   },
   "outputs": [],
   "source": []
  }
 ],
 "metadata": {
  "colab": {
   "authorship_tag": "ABX9TyPtOI/Y0i714TImInfoBszT",
   "collapsed_sections": [],
   "name": "파이썬실습05_PersonalLoan_sol.ipynb",
   "provenance": [],
   "toc_visible": true
  },
  "kernelspec": {
   "display_name": "Python 3 (ipykernel)",
   "language": "python",
   "name": "python3"
  },
  "language_info": {
   "codemirror_mode": {
    "name": "ipython",
    "version": 3
   },
   "file_extension": ".py",
   "mimetype": "text/x-python",
   "name": "python",
   "nbconvert_exporter": "python",
   "pygments_lexer": "ipython3",
   "version": "3.9.12"
  }
 },
 "nbformat": 4,
 "nbformat_minor": 1
}
