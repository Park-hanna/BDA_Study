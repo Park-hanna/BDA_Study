{
 "cells": [
  {
   "cell_type": "markdown",
   "metadata": {
    "id": "talUo_A31mRC"
   },
   "source": [
    "#Data 09: Restaurant\n",
    "\n",
    "Zomato는 인도의 맛집/음식 배달 웹 사이트이다.  \n",
    "이 데이터는 2019 년 3 월 15 일까지 zomato 웹 사이트에서 제공되는 데이터를 담고 있다.\n",
    "*   Data from: https://www.kaggle.com/himanshupoddar/zomato-bangalore-restaurants"
   ]
  },
  {
   "cell_type": "markdown",
   "metadata": {
    "id": "8lTTYsBy1one"
   },
   "source": [
    "##1.데이터 둘러보기"
   ]
  },
  {
   "cell_type": "code",
   "execution_count": null,
   "metadata": {
    "id": "hSjF9mdo1gNX"
   },
   "outputs": [],
   "source": [
    "#한글 폰트 설정하기\n",
    "!sudo apt-get install -y fonts-nanum\n",
    "!sudo fc-cache -fv\n",
    "!rm ~/.cache/matplotlib -rf\n",
    "#런타임 다시 시작"
   ]
  },
  {
   "cell_type": "code",
   "execution_count": null,
   "metadata": {
    "id": "ofDyFPvT4rYE"
   },
   "outputs": [],
   "source": [
    "#기본 패키지 불러오기\n",
    "import math\n",
    "import _____ as __\n",
    "import ______ as __\n",
    "import ______ as ___\n",
    "import __________.______ as ___\n",
    "\n",
    "plt.style.use('seaborn')\n",
    "sns.set(font_scale=1)\n",
    "plt.rc('font', family='NanumBarunGothic') \n",
    "plt.rcParams['font.family'] = 'NanumGothic'\n",
    "\n",
    "import warnings\n",
    "warnings.simplefilter(action='ignore', category=FutureWarning)"
   ]
  },
  {
   "cell_type": "code",
   "execution_count": null,
   "metadata": {
    "id": "GUvX7EYY4tSN"
   },
   "outputs": [],
   "source": [
    "#구글 드라이브 마운트하기(이미 되어있다면 건너뛴다)\n",
    "from google.colab import drive \n",
    "drive.mount('/content/drive')"
   ]
  },
  {
   "cell_type": "code",
   "execution_count": null,
   "metadata": {
    "id": "k_ZcOPnp6gLj"
   },
   "outputs": [],
   "source": [
    "#데이터 불러오기\n",
    "#드라이브에 올려준 csv 데이터 파일 불러오기\n",
    "zmt = pd.read_csv('') #~16 sec"
   ]
  },
  {
   "cell_type": "code",
   "execution_count": null,
   "metadata": {
    "id": "MqREpDwv_118"
   },
   "outputs": [],
   "source": [
    "#불러온 데이터 일단 보기\n",
    "___.____(3)"
   ]
  },
  {
   "cell_type": "markdown",
   "metadata": {
    "id": "clOPNwQ12Nfl"
   },
   "source": [
    "<컬럼 설명>  \n",
    "* url : Zomato 사이트의 URL\n",
    "* address : 식당 주소\n",
    "* name : 식당 이름\n",
    "* online_order : 온라인 주문 가능 여부(Yes/No)\n",
    "* book_table : 테이블 예약 가능 여부(Yes/No)\n",
    "* rate : 식당 평점(5점 만점)\n",
    "* votes : 평점 참여 횟수\n",
    "* phone : 식당 전화번호\n",
    "* location : 식당 위치\n",
    "* rest_type : 레스토랑 타입\n",
    "* dish_liked : 인기 메뉴\n",
    "* cuisines : 메뉴 타입\n",
    "* approx_cost(for two people) : 대략적인 가격(두 사람 기준)\n",
    "*reviews_list : 평점과 리뷰로 구성된 후기 정보\n",
    "* menu_item : 레스토랑에서 주문 가능한 메뉴\n",
    "* listed_in(type) : 식사 종류\n",
    "* listed_in(city) : 레스토랑 위치"
   ]
  },
  {
   "cell_type": "code",
   "execution_count": null,
   "metadata": {
    "id": "NNc_ju2g2NAP"
   },
   "outputs": [],
   "source": [
    "#데이터 기본 정보 확인하기\n",
    "___.____()"
   ]
  },
  {
   "cell_type": "code",
   "execution_count": null,
   "metadata": {
    "id": "mKLrnXzaDba2"
   },
   "outputs": [],
   "source": [
    "#데이터 내용 간단히 정리해서 출력하기\n",
    "print(\"총 데이터 개수: \", zmt.shape[0]*zmt.shape[1])\n",
    "print(\"총 결측치 수: {} = 전체 데이터의 {:.2f}% \".format(zmt.isnull().sum().sum(), (zmt.isnull().sum().sum()*100)/(zmt.shape[0]*zmt.shape[1])))\n",
    "print(\"전체 식당 수: \", ___['____'].__________())"
   ]
  },
  {
   "cell_type": "markdown",
   "metadata": {
    "id": "LjhPk2502JBS"
   },
   "source": [
    "##2.데이터를 보고 질문 만들기"
   ]
  },
  {
   "cell_type": "markdown",
   "metadata": {
    "id": "j1qZKBb72H9-"
   },
   "source": [
    "* 방갈로르에 가장 많은 레스토랑은?  \n",
    "* 방갈로르의 레스토랑 운영 형태는?  \n",
    "* 방갈로르의 어느 지역에 레스토랑이 가장 많은가?  \n",
    "* 온라인 주문/테이블 예약이 금액과 평점에 영향을 주는가?  \n",
    "* 레스토랑의 종류 별로 메뉴가 다를까?\n",
    "* 레스토랑 리뷰를 분석할 수 있을까?"
   ]
  },
  {
   "cell_type": "markdown",
   "metadata": {
    "id": "-jIWqr6dDw4v"
   },
   "source": [
    "##3.데이터 정비하기"
   ]
  },
  {
   "cell_type": "markdown",
   "metadata": {
    "id": "UogFpJz8FJlK"
   },
   "source": [
    "###3-1. 필요없는 컬럼 삭제"
   ]
  },
  {
   "cell_type": "code",
   "execution_count": null,
   "metadata": {
    "id": "n3AXU0aFFM7B"
   },
   "outputs": [],
   "source": [
    "zmt = ___.____(['____','____', '___________'],axis = 1)\n",
    "zmt.____()"
   ]
  },
  {
   "cell_type": "markdown",
   "metadata": {
    "id": "fM7Sw6SyFjKp"
   },
   "source": [
    "###3-2. 중복 데이터 처리하기"
   ]
  },
  {
   "cell_type": "code",
   "execution_count": null,
   "metadata": {
    "id": "IX29gGJ2FgDl"
   },
   "outputs": [],
   "source": [
    "#중복 데이터 확인하기\n",
    "____.____________().____()"
   ]
  },
  {
   "cell_type": "code",
   "execution_count": null,
   "metadata": {
    "id": "4Nr981lPFfSh"
   },
   "outputs": [],
   "source": [
    "#중복 데이터 삭제하기\n",
    "zmt.___________(______ = ____)\n",
    "zmt.info()"
   ]
  },
  {
   "cell_type": "markdown",
   "metadata": {
    "id": "BYVR0gB7FFnn"
   },
   "source": [
    "###3-3. NaN 처리하기"
   ]
  },
  {
   "cell_type": "code",
   "execution_count": null,
   "metadata": {
    "id": "cOXjlxI7DtjW"
   },
   "outputs": [],
   "source": [
    "#컬럼별로 NULL 개수 확인하기\n",
    "zmt.______().___()"
   ]
  },
  {
   "cell_type": "code",
   "execution_count": null,
   "metadata": {
    "id": "OOfo95hMizG_"
   },
   "outputs": [],
   "source": [
    "#Nan이 존재하는 행은 다 삭제하기\n",
    "zmt.______(___ = '___',_______ = ____)\n",
    "zmt.info()"
   ]
  },
  {
   "cell_type": "markdown",
   "metadata": {
    "id": "GnPaEhGBIJi0"
   },
   "source": [
    "###3-4. 컬럼 정비하기"
   ]
  },
  {
   "cell_type": "code",
   "execution_count": null,
   "metadata": {
    "id": "wcnj4wiTISoo"
   },
   "outputs": [],
   "source": [
    "#컬럼명 확인하기\n",
    "zmt._________"
   ]
  },
  {
   "cell_type": "code",
   "execution_count": null,
   "metadata": {
    "id": "8RH6OuRUIIz-"
   },
   "outputs": [],
   "source": [
    "#컬럼명 변경하기 \n",
    "zmt = zmt.______(columns={'____________________':'____',\n",
    "                                '_______________)':'____',\n",
    "                                '_______________':'____'})\n",
    "zmt.columns"
   ]
  },
  {
   "cell_type": "code",
   "execution_count": null,
   "metadata": {
    "id": "YYiqlTRIIxVc"
   },
   "outputs": [],
   "source": [
    "#cost 컬럼에 ,가 들어가 있어서 object 타입이다. 변경해주자\n",
    "print(zmt['____'].________())"
   ]
  },
  {
   "cell_type": "code",
   "execution_count": null,
   "metadata": {
    "id": "ssynM8j7JcqA"
   },
   "outputs": [],
   "source": [
    "zmt['cost'] = zmt['cost']._______(str) #string으로 변환하기\n",
    "zmt['cost'] = zmt['cost']._______('_','_',regex = True) #콤마 삭제하기\n",
    "zmt['cost'] = zmt['cost']._______(_____) #데이터타입을 float으로 변경하기\n",
    "zmt['cost'].unique()"
   ]
  },
  {
   "cell_type": "code",
   "execution_count": null,
   "metadata": {
    "id": "YinlPC9VO5Mo"
   },
   "outputs": [],
   "source": [
    "#rating 컬럼 정비하기\n",
    "print(zmt['rate'].unique())"
   ]
  },
  {
   "cell_type": "code",
   "execution_count": null,
   "metadata": {
    "id": "JLjhnjUBO-jP"
   },
   "outputs": [],
   "source": [
    "zmt['rate'] = zmt['rate']._______(___) #string으로 변환하기\n",
    "zmt['rate'] = zmt['rate']._______('__','_',regex = True) #/5 -> 삭제\n",
    "zmt['rating'] = zmt['rate']._______('____','_',regex = True) #NEW > -\n",
    "\n",
    "zmt = zmt.loc[zmt['____'] !='___'].______________(drop=True)"
   ]
  },
  {
   "cell_type": "code",
   "execution_count": null,
   "metadata": {
    "id": "yYR4WGPJesd6"
   },
   "outputs": [],
   "source": [
    "zmt['rating'] = zmt['rating']._________('_','_',regex = True) #rating 컬럼은 숫자 타입으로 바꿔주기 위해 한번 더 변환\n",
    "zmt['rating'] = zmt['rating']._______(_____) #float으로 변환"
   ]
  },
  {
   "cell_type": "code",
   "execution_count": null,
   "metadata": {
    "id": "x5gDyt3vhJVT"
   },
   "outputs": [],
   "source": [
    "zmt.info()"
   ]
  },
  {
   "cell_type": "code",
   "execution_count": null,
   "metadata": {
    "id": "jQrlu9-Why89"
   },
   "outputs": [],
   "source": [
    "zmt.head(5)"
   ]
  },
  {
   "cell_type": "code",
   "execution_count": null,
   "metadata": {
    "id": "O57KUpnikl4v"
   },
   "outputs": [],
   "source": [
    "#online_order와 book_table 컬럼의 Yes -> 1, No -> 0으로 바꿔주기\n",
    "zmt['online_order'] =zmt['online_order'].___({\"___\":_,\"__\":_}).______(___)\n",
    "zmt['book_table']=zmt['book_table'].___({\"___\":_,\"__\":_}).______(___)\n",
    "zmt.head()"
   ]
  },
  {
   "cell_type": "markdown",
   "metadata": {
    "id": "FWJCHZVcDzEV"
   },
   "source": [
    "##4.EDA & Visualization"
   ]
  },
  {
   "cell_type": "code",
   "execution_count": null,
   "metadata": {
    "id": "Opiij-PjlOUU"
   },
   "outputs": [],
   "source": [
    "#매장 수가 가장 많은 레스토랑은?\n",
    "f, ax = plt.__________(_, _, _________ = (12,6))\n",
    "\n",
    "sns.__________(x= zmt['____']._____________()[___],y = zmt['____'].____________()[___]._____, palette = 'mako')\n",
    "plt.title('방갈로르에 매장이 많은 레스토랑 Top 10', size=18)\n",
    "plt.xlabel('매장 수')\n",
    "plt.ylabel('레스토랑 이름')"
   ]
  },
  {
   "cell_type": "code",
   "execution_count": null,
   "metadata": {
    "id": "Ay4B6ug8r19P"
   },
   "outputs": [],
   "source": [
    "#레스토랑 운영 형태\n",
    "plt.figure(figsize = (12,6))\n",
    "\n",
    "sns._________(x= zmt['____']._____________()[___],y = zmt['____'].____________()[___]._____,palette = 'icefire')\n",
    "plt.title('방갈로르의 레스토랑 운영 형태', size=18)\n",
    "plt.xlabel('매장 수')\n",
    "plt.ylabel('레스토랑 타입')"
   ]
  },
  {
   "cell_type": "code",
   "execution_count": null,
   "metadata": {
    "id": "rNiEV4AeWnd7"
   },
   "outputs": [],
   "source": [
    "#방갈로르의 위치 별 레스토랑 수\n",
    "f, ax = plt.subplots(1, 1, figsize = (12,12))\n",
    "\n",
    "sns._________(zmt['____'], ax=ax)\n",
    "sns._________(zmt['____']).________________(sns.____________(zmt['____']).get_xticklabels(), rotation=__, ha=\"right\")\n",
    "plt._____('방갈로르의 위치 별 레스토랑 수', size=18)\n",
    "plt._____('')"
   ]
  },
  {
   "cell_type": "code",
   "execution_count": null,
   "metadata": {
    "id": "RekEoFmTls6P"
   },
   "outputs": [],
   "source": [
    "#온라인 주문과 예약이 가능한 식당 비율\n",
    "f, ax = plt.subplots(_, _, figsize = (13,5))\n",
    "\n",
    "sns._____________(___['_________________'],palette = 'dark:salmon_r', ax=__[_])\n",
    "\n",
    "ax[0].___________('온라인 주문 가능 매장')\n",
    "ax[0].___________('Number of outlets') \n",
    "\n",
    "sns._____________(zmt['_____________'],palette = 'YlOrBr', ax=__[_])\n",
    "ax[1].___________('테이블 예약 가능 매장')\n",
    "ax[1].___________('') "
   ]
  },
  {
   "cell_type": "code",
   "execution_count": null,
   "metadata": {
    "id": "_cWy6GOyYKyG"
   },
   "outputs": [],
   "source": [
    "#온라인 주문과 테이블 예약과 평균 금액과의 관계\n",
    "f, ax = plt.subplots(1, 2, figsize = (13,5))\n",
    "\n",
    "sns._______(x=___['_________________'], y=___['____'], palette = 'dark:salmon_r', ax=ax[0])\n",
    "ax[0].__________('온라인 주문 가능 매장', size=15)\n",
    "ax[0].___________('평균 식사 금액(2인 기준)') \n",
    "#ax[0]._______(0, 2000)\n",
    "\n",
    "sns._______(x=z___mt['____________'], y=___['____'], palette = 'YlOrBr', ax=ax[1])\n",
    "ax[1].__________('테이블 예약 가능 매장', size=15)\n",
    "ax[1].__________('') \n",
    "#ax[1].set_ylim(0, 2000)"
   ]
  },
  {
   "cell_type": "code",
   "execution_count": null,
   "metadata": {
    "id": "Vl88ZStkdYNT"
   },
   "outputs": [],
   "source": [
    "#온라인 주문과 테이블 예약과 평점과의 관계\n",
    "f, ax = plt.______________(_, _, figsize = (13,5))\n",
    "\n",
    "sns._______(x=___['____________'], y=___['______'], palette = 'dark:salmon_r', ax=ax[0])\n",
    "ax[0].__________('온라인 주문 가능 매장', size=15)\n",
    "ax[0].__________('평점') \n",
    "\n",
    "sns._______(x=___['_________'], y=___['______'],  palette = 'YlOrBr', ax=ax[1])\n",
    "ax[1].__________('테이블 예약 가능 매장', size=15)\n",
    "ax[1].__________('') \n"
   ]
  },
  {
   "cell_type": "code",
   "execution_count": null,
   "metadata": {
    "id": "wZbUWJK5rIem"
   },
   "outputs": [],
   "source": [
    "#온라인 주문과 예약이 가능하면 평점이 더 높을까?\n",
    "pd._________(___['____'],___['_____________'])\n",
    "a = pd.___________(___['____'],___['_____________'])"
   ]
  },
  {
   "cell_type": "code",
   "execution_count": null,
   "metadata": {
    "id": "NtQtT6bMq5pf"
   },
   "outputs": [],
   "source": [
    "pd._________(___['____'],___['___________'])\n",
    "b = pd._________(___['____'],___['___________'])"
   ]
  },
  {
   "cell_type": "code",
   "execution_count": null,
   "metadata": {
    "id": "QNXhTcc_mkuY"
   },
   "outputs": [],
   "source": [
    "#stacking bar 그래프로 나타내기\n",
    "f, ax = plt.subplots(2, 1, figsize = (13,5))\n",
    "\n",
    "sns.____________('white')\n",
    "\n",
    "a.____(____=\"___\",stacked=____, ax=ax[0])\n",
    "#ax[0].xaxis.set_visible(False)\n",
    "ax[0].set_title('rate', size=18)\n",
    "plt.ylabel('') \n",
    "plt.xlabel('')\n",
    "\n",
    "\n",
    "b.____(____=\"____\",______=True, ax=ax[1])\n",
    "plt.ylabel('') \n",
    "plt.xlabel('Ratings')"
   ]
  },
  {
   "cell_type": "markdown",
   "metadata": {
    "id": "EmvMNLi2nWwN"
   },
   "source": [
    "##5.텍스트 클라우드"
   ]
  },
  {
   "cell_type": "code",
   "execution_count": null,
   "metadata": {
    "id": "AHnz47TOo4B-"
   },
   "outputs": [],
   "source": [
    "#패키지 삽입\n",
    "from __________ import __________, __________ "
   ]
  },
  {
   "cell_type": "code",
   "execution_count": null,
   "metadata": {
    "id": "mrtSkUhTpOrk"
   },
   "outputs": [],
   "source": [
    "zmt_re = zmt.____()"
   ]
  },
  {
   "cell_type": "code",
   "execution_count": null,
   "metadata": {
    "id": "Q8aXoQP7pNWA"
   },
   "outputs": [],
   "source": [
    "#상위 3개 레스토랑 타입에 대해서 워드 클라우드를 그리자\n",
    "rest=________['________'].____________()[:3].index "
   ]
  },
  {
   "cell_type": "code",
   "execution_count": null,
   "metadata": {
    "id": "K74yGrzmnQoy"
   },
   "outputs": [],
   "source": [
    "#레스토랑 타입별로 워드클라우드 그리는 함수\n",
    "\n",
    "def zomato_wordcloud(____):\n",
    "    plt.____(figsize = (20,20))\n",
    "    for i, rest_tp in enumerate(____):\n",
    "        plt.subplot(_,_,___)\n",
    "        dishes = ''\n",
    "        data = zmt_re[zmt_re['________'] == ______]\n",
    "        #dish_liked에 있는 단어들을 쪼개준다\n",
    "        for word in ____['___________']:\n",
    "            words=word._____()\n",
    "            dishes=_________+ \" \".join(______)+\" \"\n",
    "        wordcloud = ______________(background_color='white', colormap = 'seismic', collocations=False, stopwords = stopwords, width=1200, height=1200).generate(______)\n",
    "        plt.imshow(______)\n",
    "        plt.title(______)\n",
    "        plt.axis(\"off\")\n"
   ]
  },
  {
   "cell_type": "code",
   "execution_count": null,
   "metadata": {
    "id": "9qXyHy_esnfm"
   },
   "outputs": [],
   "source": [
    "stopwords = set(_________) \n",
    "zomato_wordcloud(____)"
   ]
  },
  {
   "cell_type": "markdown",
   "metadata": {
    "id": "zYzhwyjgkdl0"
   },
   "source": [
    "##6.간단한 감정분석(Sentiment Analysis)\n",
    " 감정 분석은 텍스트 분석 기술을 통해, 텍스트 데이터 내에서 감정(긍정적, 부정적 및 중립적)을 해석하고 분류하는 방법입니다.  \n",
    "   감정 분석 패키지에도 여러가지가 있는데, 여기서는 TextBlob 패키지를 활용하겠습니다.   \n",
    " 감정은 미리 단어 사전에 분류되어진 값을 사용하는데,     \n",
    " polarity 값이 양의 값을 가질 경우 긍정, 음의 값을 가지면 부정을 의미하며 0일 경우 중립 단어입니다."
   ]
  },
  {
   "cell_type": "code",
   "execution_count": null,
   "metadata": {
    "id": "Bc6aHfmkHlxV"
   },
   "outputs": [],
   "source": [
    "from __________ import __________"
   ]
  },
  {
   "cell_type": "code",
   "execution_count": null,
   "metadata": {
    "id": "dH__Ve2bHm-8"
   },
   "outputs": [],
   "source": [
    "#리뷰를 감정 분석한 새로운 컬럼(review_sent)을 만든다(~8분)\n",
    "\n",
    "sent_res = []\n",
    "for i in range(_, ___(___)):\n",
    "    analysis = ________(zmt.___[i,'___________']) #리뷰의 감정을 분석한다\n",
    "    __ _________._________._________ > _: \n",
    "        sent_res.______('________')\n",
    "    ____ _________._________._________ == _:\n",
    "        sent_res.______('________')\n",
    "    ____:\n",
    "        sent_res.______('________')\n",
    "zmt['review_sent'] = sent_res"
   ]
  },
  {
   "cell_type": "code",
   "execution_count": null,
   "metadata": {
    "id": "vm6GKuUzNaVa"
   },
   "outputs": [],
   "source": [
    "zmt.head()"
   ]
  },
  {
   "cell_type": "code",
   "execution_count": null,
   "metadata": {
    "id": "qEshxTo7lzPY"
   },
   "outputs": [],
   "source": [
    "#plotly로 비용과 평점 사이의 상관관계 나타내고 감정분석 결과를 나눠서 보자\n",
    "from ______.________ import ____________\n",
    "import ______.______ as __\n",
    "\n",
    "#원의 크기는 투표 수로 나타낸다!\n",
    "fig = px.__________(zmt, x=\"____\", y=\"____\", size=\"____\", color='review_sent'\n",
    "                     ,log_x=True, size_max=60)\n",
    "fig.show()"
   ]
  },
  {
   "cell_type": "markdown",
   "metadata": {
    "id": "wJa7HedLD00_"
   },
   "source": [
    "##7.Review"
   ]
  },
  {
   "cell_type": "markdown",
   "metadata": {
    "id": "uXJIcmR5a8TK"
   },
   "source": [
    "* 방갈로르에 가장 많은 레스토랑은?  \n",
    "* 방갈로르의 레스토랑 운영 형태는?  \n",
    "* 방갈로르의 어느 지역에 레스토랑이 가장 많은가?  \n",
    "* 온라인 주문/테이블 예약이 금액과 평점에 영향을 주는가?  \n",
    "> 테이블 예약 가능 매장인 경우 금액대도 높고 평점도 좋았다.  \n",
    "온라인 주문 여부는 금액과 평점에 큰 차이를 끼치지 않았다.\n",
    "\n",
    "* 레스토랑의 종류 별로 메뉴가 다를까?\n",
    "> 텍스트 클라우드로 메뉴를 분석했다\n",
    "* 레스토랑 리뷰를 분석할 수 있을까?\n",
    "> 감정분석을 통해 리뷰의 긍정/부정/중립을 나누어 볼 수 있었다"
   ]
  }
 ],
 "metadata": {
  "colab": {
   "authorship_tag": "ABX9TyNUHJOPno1IA9DP1M0wzeBq",
   "collapsed_sections": [],
   "name": "(사본)파이썬실습09_Restaurant_ex.ipynb",
   "provenance": [],
   "toc_visible": true
  },
  "kernelspec": {
   "display_name": "Python 3",
   "name": "python3"
  },
  "language_info": {
   "name": "python"
  }
 },
 "nbformat": 4,
 "nbformat_minor": 0
}
