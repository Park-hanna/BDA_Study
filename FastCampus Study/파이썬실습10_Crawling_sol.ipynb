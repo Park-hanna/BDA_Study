{
 "cells": [
  {
   "cell_type": "markdown",
   "metadata": {
    "id": "UVFGkDd1kwHn"
   },
   "source": [
    "#Crawling  \n",
    "크롤링이란?: 소프트웨어를 사용해 웹상에서 정보를 찾아 특정 데이터베이스로 수집해 오는 작업 또는 기술."
   ]
  },
  {
   "cell_type": "markdown",
   "metadata": {
    "id": "ZfQ9TYMYQzV2"
   },
   "source": [
    "##1.BeautifulSoup  \n",
    "BeautifulSoup란? : 복잡한 웹페이지를 스크래핑하기 쉽도록 단순한 구조로 만들어주는 파이썬 라이브러리"
   ]
  },
  {
   "cell_type": "markdown",
   "metadata": {
    "id": "2xyKSJSUTrwP"
   },
   "source": [
    "###1-1. BeautifulSoup로 웹페이지 긁어오기"
   ]
  },
  {
   "cell_type": "code",
   "execution_count": null,
   "metadata": {
    "id": "7gpIEzMfQ6YP"
   },
   "outputs": [],
   "source": [
    "import requests\n",
    "from bs4 import BeautifulSoup"
   ]
  },
  {
   "cell_type": "code",
   "execution_count": null,
   "metadata": {
    "id": "vjL7IJ2pRhbV"
   },
   "outputs": [],
   "source": [
    "#BeautifulSoup 이용해서 당근마켓 페이지에 있는 내용 모두 긁어오기\n",
    "webpage = requests.get(\"https://www.daangn.com/search/%EC%A2%85%EB%A1%9C1%EA%B0%80\")\n",
    "soup = BeautifulSoup(webpage.content, \"html.parser\")\n",
    "print(soup)"
   ]
  },
  {
   "cell_type": "code",
   "execution_count": null,
   "metadata": {
    "id": "gS8tyglESKnT"
   },
   "outputs": [],
   "source": [
    "#html에 대해 전부 다 이해할 필요는 없다\n",
    "#구조를 보면 <> 안에 class로 나뉘어져 있는 것이 html의 구조\n",
    "print(soup.p)\n",
    "#태그 빼고 글만 보기\n",
    "print('')\n",
    "print(soup.p.string)"
   ]
  },
  {
   "cell_type": "code",
   "execution_count": null,
   "metadata": {
    "id": "F-Onz7l_S92t"
   },
   "outputs": [],
   "source": [
    "#p class만 따로 뽑아서 보기\n",
    "print(soup.find_all('p'))"
   ]
  },
  {
   "cell_type": "markdown",
   "metadata": {
    "id": "qb21nJwXWgNx"
   },
   "source": [
    "###1-2. 네이버 기사제목 긁어오기"
   ]
  },
  {
   "cell_type": "code",
   "execution_count": null,
   "metadata": {
    "id": "dLk-P-pwWflj"
   },
   "outputs": [],
   "source": [
    "#뉴스 기사 검색 키워드\n",
    "keyword = '올림픽'\n",
    "url = f'https://search.naver.com/search.naver?where=news&sm=tab_jum&query={keyword}'"
   ]
  },
  {
   "cell_type": "code",
   "execution_count": null,
   "metadata": {
    "id": "ILTpibRjXE7S"
   },
   "outputs": [],
   "source": [
    "#키워드 검색하고 페이지 긁어오기\n",
    "#a tag 만 모아서 보자\n",
    "news = requests.get(url)\n",
    "soup = BeautifulSoup(news.content, 'html.parser')\n",
    "print(soup)"
   ]
  },
  {
   "cell_type": "code",
   "execution_count": null,
   "metadata": {
    "id": "N96vOJedkL7u"
   },
   "outputs": [],
   "source": [
    "a = soup.find_all('a')\n",
    "a"
   ]
  },
  {
   "cell_type": "code",
   "execution_count": null,
   "metadata": {
    "id": "U-2JyH_wa8wn"
   },
   "outputs": [],
   "source": [
    "#a tag 아래에 .news_tit 이라는 클래스가 뉴스 제목임을 알 수 있다\n",
    "titles = soup.select('.news_tit')\n",
    "titles"
   ]
  },
  {
   "cell_type": "code",
   "execution_count": null,
   "metadata": {
    "id": "4SV3qUaZXJki"
   },
   "outputs": [],
   "source": [
    "print(len(titles), '개의 뉴스가 검색되었습니다')\n",
    "for title in titles:\n",
    "    print(title['title'])\n",
    "print()"
   ]
  },
  {
   "cell_type": "markdown",
   "metadata": {
    "id": "PxYqpeuNTkP5"
   },
   "source": [
    "##2.Selenium"
   ]
  },
  {
   "cell_type": "markdown",
   "metadata": {
    "id": "Vu9uSE35plRT"
   },
   "source": [
    "###1-1. Selenium 설치하기"
   ]
  },
  {
   "cell_type": "code",
   "execution_count": null,
   "metadata": {
    "id": "JnE8ULTgdln_"
   },
   "outputs": [],
   "source": [
    "#Selenium 설치하기\n",
    "!pip install selenium\n",
    "!apt-get update\n",
    "!apt install chromium-chromedriver"
   ]
  },
  {
   "cell_type": "markdown",
   "metadata": {
    "id": "X7W8Au59rJxo"
   },
   "source": [
    "이후 단계 진행은 Jupyter Notebook 에서 하겠습니다."
   ]
  }
 ],
 "metadata": {
  "colab": {
   "authorship_tag": "ABX9TyMTPnP62dvf6Urr+emgSp9H",
   "collapsed_sections": [],
   "name": "파이썬실습10_Crawling_sol.ipynb",
   "provenance": [],
   "toc_visible": true
  },
  "kernelspec": {
   "display_name": "Python 3",
   "name": "python3"
  },
  "language_info": {
   "name": "python"
  }
 },
 "nbformat": 4,
 "nbformat_minor": 0
}
